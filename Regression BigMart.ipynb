{
 "cells": [
  {
   "cell_type": "code",
   "execution_count": 1,
   "id": "32e91bc3",
   "metadata": {},
   "outputs": [],
   "source": [
    "import pandas as pd\n",
    "import numpy as np\n"
   ]
  },
  {
   "cell_type": "code",
   "execution_count": 2,
   "id": "e0a6a743",
   "metadata": {},
   "outputs": [],
   "source": [
    "train_df=pd.read_csv(\"bigmart_train.csv\")"
   ]
  },
  {
   "cell_type": "code",
   "execution_count": 3,
   "id": "66c9738a",
   "metadata": {},
   "outputs": [
    {
     "data": {
      "text/html": [
       "<div>\n",
       "<style scoped>\n",
       "    .dataframe tbody tr th:only-of-type {\n",
       "        vertical-align: middle;\n",
       "    }\n",
       "\n",
       "    .dataframe tbody tr th {\n",
       "        vertical-align: top;\n",
       "    }\n",
       "\n",
       "    .dataframe thead th {\n",
       "        text-align: right;\n",
       "    }\n",
       "</style>\n",
       "<table border=\"1\" class=\"dataframe\">\n",
       "  <thead>\n",
       "    <tr style=\"text-align: right;\">\n",
       "      <th></th>\n",
       "      <th>Item_Identifier</th>\n",
       "      <th>Item_Weight</th>\n",
       "      <th>Item_Fat_Content</th>\n",
       "      <th>Item_Visibility</th>\n",
       "      <th>Item_Type</th>\n",
       "      <th>Item_MRP</th>\n",
       "      <th>Outlet_Identifier</th>\n",
       "      <th>Outlet_Establishment_Year</th>\n",
       "      <th>Outlet_Size</th>\n",
       "      <th>Outlet_Location_Type</th>\n",
       "      <th>Outlet_Type</th>\n",
       "      <th>Item_Outlet_Sales</th>\n",
       "    </tr>\n",
       "  </thead>\n",
       "  <tbody>\n",
       "    <tr>\n",
       "      <th>0</th>\n",
       "      <td>FDA15</td>\n",
       "      <td>9.30</td>\n",
       "      <td>Low Fat</td>\n",
       "      <td>0.016047</td>\n",
       "      <td>Dairy</td>\n",
       "      <td>249.8092</td>\n",
       "      <td>OUT049</td>\n",
       "      <td>1999</td>\n",
       "      <td>Medium</td>\n",
       "      <td>Tier 1</td>\n",
       "      <td>Supermarket Type1</td>\n",
       "      <td>3735.1380</td>\n",
       "    </tr>\n",
       "    <tr>\n",
       "      <th>1</th>\n",
       "      <td>DRC01</td>\n",
       "      <td>5.92</td>\n",
       "      <td>Regular</td>\n",
       "      <td>0.019278</td>\n",
       "      <td>Soft Drinks</td>\n",
       "      <td>48.2692</td>\n",
       "      <td>OUT018</td>\n",
       "      <td>2009</td>\n",
       "      <td>Medium</td>\n",
       "      <td>Tier 3</td>\n",
       "      <td>Supermarket Type2</td>\n",
       "      <td>443.4228</td>\n",
       "    </tr>\n",
       "    <tr>\n",
       "      <th>2</th>\n",
       "      <td>FDN15</td>\n",
       "      <td>17.50</td>\n",
       "      <td>Low Fat</td>\n",
       "      <td>0.016760</td>\n",
       "      <td>Meat</td>\n",
       "      <td>141.6180</td>\n",
       "      <td>OUT049</td>\n",
       "      <td>1999</td>\n",
       "      <td>Medium</td>\n",
       "      <td>Tier 1</td>\n",
       "      <td>Supermarket Type1</td>\n",
       "      <td>2097.2700</td>\n",
       "    </tr>\n",
       "    <tr>\n",
       "      <th>3</th>\n",
       "      <td>FDX07</td>\n",
       "      <td>19.20</td>\n",
       "      <td>Regular</td>\n",
       "      <td>0.000000</td>\n",
       "      <td>Fruits and Vegetables</td>\n",
       "      <td>182.0950</td>\n",
       "      <td>OUT010</td>\n",
       "      <td>1998</td>\n",
       "      <td>NaN</td>\n",
       "      <td>Tier 3</td>\n",
       "      <td>Grocery Store</td>\n",
       "      <td>732.3800</td>\n",
       "    </tr>\n",
       "    <tr>\n",
       "      <th>4</th>\n",
       "      <td>NCD19</td>\n",
       "      <td>8.93</td>\n",
       "      <td>Low Fat</td>\n",
       "      <td>0.000000</td>\n",
       "      <td>Household</td>\n",
       "      <td>53.8614</td>\n",
       "      <td>OUT013</td>\n",
       "      <td>1987</td>\n",
       "      <td>High</td>\n",
       "      <td>Tier 3</td>\n",
       "      <td>Supermarket Type1</td>\n",
       "      <td>994.7052</td>\n",
       "    </tr>\n",
       "  </tbody>\n",
       "</table>\n",
       "</div>"
      ],
      "text/plain": [
       "  Item_Identifier  Item_Weight Item_Fat_Content  Item_Visibility  \\\n",
       "0           FDA15         9.30          Low Fat         0.016047   \n",
       "1           DRC01         5.92          Regular         0.019278   \n",
       "2           FDN15        17.50          Low Fat         0.016760   \n",
       "3           FDX07        19.20          Regular         0.000000   \n",
       "4           NCD19         8.93          Low Fat         0.000000   \n",
       "\n",
       "               Item_Type  Item_MRP Outlet_Identifier  \\\n",
       "0                  Dairy  249.8092            OUT049   \n",
       "1            Soft Drinks   48.2692            OUT018   \n",
       "2                   Meat  141.6180            OUT049   \n",
       "3  Fruits and Vegetables  182.0950            OUT010   \n",
       "4              Household   53.8614            OUT013   \n",
       "\n",
       "   Outlet_Establishment_Year Outlet_Size Outlet_Location_Type  \\\n",
       "0                       1999      Medium               Tier 1   \n",
       "1                       2009      Medium               Tier 3   \n",
       "2                       1999      Medium               Tier 1   \n",
       "3                       1998         NaN               Tier 3   \n",
       "4                       1987        High               Tier 3   \n",
       "\n",
       "         Outlet_Type  Item_Outlet_Sales  \n",
       "0  Supermarket Type1          3735.1380  \n",
       "1  Supermarket Type2           443.4228  \n",
       "2  Supermarket Type1          2097.2700  \n",
       "3      Grocery Store           732.3800  \n",
       "4  Supermarket Type1           994.7052  "
      ]
     },
     "execution_count": 3,
     "metadata": {},
     "output_type": "execute_result"
    }
   ],
   "source": [
    "train_df.head(5)"
   ]
  },
  {
   "cell_type": "code",
   "execution_count": 4,
   "id": "f6f33f27",
   "metadata": {},
   "outputs": [
    {
     "data": {
      "text/plain": [
       "Index(['Item_Identifier', 'Item_Weight', 'Item_Fat_Content', 'Item_Visibility',\n",
       "       'Item_Type', 'Item_MRP', 'Outlet_Identifier',\n",
       "       'Outlet_Establishment_Year', 'Outlet_Size', 'Outlet_Location_Type',\n",
       "       'Outlet_Type', 'Item_Outlet_Sales'],\n",
       "      dtype='object')"
      ]
     },
     "execution_count": 4,
     "metadata": {},
     "output_type": "execute_result"
    }
   ],
   "source": [
    "train_df.keys()"
   ]
  },
  {
   "cell_type": "code",
   "execution_count": 5,
   "id": "2c9e02f6",
   "metadata": {},
   "outputs": [
    {
     "data": {
      "text/plain": [
       "(8523, 12)"
      ]
     },
     "execution_count": 5,
     "metadata": {},
     "output_type": "execute_result"
    }
   ],
   "source": [
    "train_df.shape"
   ]
  },
  {
   "cell_type": "code",
   "execution_count": 6,
   "id": "536932c5",
   "metadata": {},
   "outputs": [
    {
     "data": {
      "text/plain": [
       "Item_Identifier                 0\n",
       "Item_Weight                  1463\n",
       "Item_Fat_Content                0\n",
       "Item_Visibility                 0\n",
       "Item_Type                       0\n",
       "Item_MRP                        0\n",
       "Outlet_Identifier               0\n",
       "Outlet_Establishment_Year       0\n",
       "Outlet_Size                  2410\n",
       "Outlet_Location_Type            0\n",
       "Outlet_Type                     0\n",
       "Item_Outlet_Sales               0\n",
       "dtype: int64"
      ]
     },
     "execution_count": 6,
     "metadata": {},
     "output_type": "execute_result"
    }
   ],
   "source": [
    "train_df.isnull().sum()"
   ]
  },
  {
   "cell_type": "code",
   "execution_count": 7,
   "id": "3d7baa6d",
   "metadata": {},
   "outputs": [
    {
     "data": {
      "text/plain": [
       "415"
      ]
     },
     "execution_count": 7,
     "metadata": {},
     "output_type": "execute_result"
    }
   ],
   "source": [
    "train_df[\"Item_Weight\"].nunique()"
   ]
  },
  {
   "cell_type": "code",
   "execution_count": 8,
   "id": "880bd8f2",
   "metadata": {},
   "outputs": [],
   "source": [
    "# adding an extra column of age of outlet \n",
    "\n",
    "train_df[\"Outlet Age\"]=2023-train_df[\"Outlet_Establishment_Year\"]"
   ]
  },
  {
   "cell_type": "code",
   "execution_count": 9,
   "id": "0edd1d84",
   "metadata": {},
   "outputs": [
    {
     "data": {
      "text/html": [
       "<div>\n",
       "<style scoped>\n",
       "    .dataframe tbody tr th:only-of-type {\n",
       "        vertical-align: middle;\n",
       "    }\n",
       "\n",
       "    .dataframe tbody tr th {\n",
       "        vertical-align: top;\n",
       "    }\n",
       "\n",
       "    .dataframe thead th {\n",
       "        text-align: right;\n",
       "    }\n",
       "</style>\n",
       "<table border=\"1\" class=\"dataframe\">\n",
       "  <thead>\n",
       "    <tr style=\"text-align: right;\">\n",
       "      <th></th>\n",
       "      <th>Item_Identifier</th>\n",
       "      <th>Item_Weight</th>\n",
       "      <th>Item_Fat_Content</th>\n",
       "      <th>Item_Visibility</th>\n",
       "      <th>Item_Type</th>\n",
       "      <th>Item_MRP</th>\n",
       "      <th>Outlet_Identifier</th>\n",
       "      <th>Outlet_Establishment_Year</th>\n",
       "      <th>Outlet_Size</th>\n",
       "      <th>Outlet_Location_Type</th>\n",
       "      <th>Outlet_Type</th>\n",
       "      <th>Item_Outlet_Sales</th>\n",
       "      <th>Outlet Age</th>\n",
       "    </tr>\n",
       "  </thead>\n",
       "  <tbody>\n",
       "    <tr>\n",
       "      <th>0</th>\n",
       "      <td>FDA15</td>\n",
       "      <td>9.30</td>\n",
       "      <td>Low Fat</td>\n",
       "      <td>0.016047</td>\n",
       "      <td>Dairy</td>\n",
       "      <td>249.8092</td>\n",
       "      <td>OUT049</td>\n",
       "      <td>1999</td>\n",
       "      <td>Medium</td>\n",
       "      <td>Tier 1</td>\n",
       "      <td>Supermarket Type1</td>\n",
       "      <td>3735.1380</td>\n",
       "      <td>24</td>\n",
       "    </tr>\n",
       "    <tr>\n",
       "      <th>1</th>\n",
       "      <td>DRC01</td>\n",
       "      <td>5.92</td>\n",
       "      <td>Regular</td>\n",
       "      <td>0.019278</td>\n",
       "      <td>Soft Drinks</td>\n",
       "      <td>48.2692</td>\n",
       "      <td>OUT018</td>\n",
       "      <td>2009</td>\n",
       "      <td>Medium</td>\n",
       "      <td>Tier 3</td>\n",
       "      <td>Supermarket Type2</td>\n",
       "      <td>443.4228</td>\n",
       "      <td>14</td>\n",
       "    </tr>\n",
       "    <tr>\n",
       "      <th>2</th>\n",
       "      <td>FDN15</td>\n",
       "      <td>17.50</td>\n",
       "      <td>Low Fat</td>\n",
       "      <td>0.016760</td>\n",
       "      <td>Meat</td>\n",
       "      <td>141.6180</td>\n",
       "      <td>OUT049</td>\n",
       "      <td>1999</td>\n",
       "      <td>Medium</td>\n",
       "      <td>Tier 1</td>\n",
       "      <td>Supermarket Type1</td>\n",
       "      <td>2097.2700</td>\n",
       "      <td>24</td>\n",
       "    </tr>\n",
       "    <tr>\n",
       "      <th>3</th>\n",
       "      <td>FDX07</td>\n",
       "      <td>19.20</td>\n",
       "      <td>Regular</td>\n",
       "      <td>0.000000</td>\n",
       "      <td>Fruits and Vegetables</td>\n",
       "      <td>182.0950</td>\n",
       "      <td>OUT010</td>\n",
       "      <td>1998</td>\n",
       "      <td>NaN</td>\n",
       "      <td>Tier 3</td>\n",
       "      <td>Grocery Store</td>\n",
       "      <td>732.3800</td>\n",
       "      <td>25</td>\n",
       "    </tr>\n",
       "    <tr>\n",
       "      <th>4</th>\n",
       "      <td>NCD19</td>\n",
       "      <td>8.93</td>\n",
       "      <td>Low Fat</td>\n",
       "      <td>0.000000</td>\n",
       "      <td>Household</td>\n",
       "      <td>53.8614</td>\n",
       "      <td>OUT013</td>\n",
       "      <td>1987</td>\n",
       "      <td>High</td>\n",
       "      <td>Tier 3</td>\n",
       "      <td>Supermarket Type1</td>\n",
       "      <td>994.7052</td>\n",
       "      <td>36</td>\n",
       "    </tr>\n",
       "  </tbody>\n",
       "</table>\n",
       "</div>"
      ],
      "text/plain": [
       "  Item_Identifier  Item_Weight Item_Fat_Content  Item_Visibility  \\\n",
       "0           FDA15         9.30          Low Fat         0.016047   \n",
       "1           DRC01         5.92          Regular         0.019278   \n",
       "2           FDN15        17.50          Low Fat         0.016760   \n",
       "3           FDX07        19.20          Regular         0.000000   \n",
       "4           NCD19         8.93          Low Fat         0.000000   \n",
       "\n",
       "               Item_Type  Item_MRP Outlet_Identifier  \\\n",
       "0                  Dairy  249.8092            OUT049   \n",
       "1            Soft Drinks   48.2692            OUT018   \n",
       "2                   Meat  141.6180            OUT049   \n",
       "3  Fruits and Vegetables  182.0950            OUT010   \n",
       "4              Household   53.8614            OUT013   \n",
       "\n",
       "   Outlet_Establishment_Year Outlet_Size Outlet_Location_Type  \\\n",
       "0                       1999      Medium               Tier 1   \n",
       "1                       2009      Medium               Tier 3   \n",
       "2                       1999      Medium               Tier 1   \n",
       "3                       1998         NaN               Tier 3   \n",
       "4                       1987        High               Tier 3   \n",
       "\n",
       "         Outlet_Type  Item_Outlet_Sales  Outlet Age  \n",
       "0  Supermarket Type1          3735.1380          24  \n",
       "1  Supermarket Type2           443.4228          14  \n",
       "2  Supermarket Type1          2097.2700          24  \n",
       "3      Grocery Store           732.3800          25  \n",
       "4  Supermarket Type1           994.7052          36  "
      ]
     },
     "execution_count": 9,
     "metadata": {},
     "output_type": "execute_result"
    }
   ],
   "source": [
    "train_df.head(5)"
   ]
  },
  {
   "cell_type": "code",
   "execution_count": 10,
   "id": "22a86568",
   "metadata": {},
   "outputs": [],
   "source": [
    "# Missing Value Treatment"
   ]
  },
  {
   "cell_type": "code",
   "execution_count": 11,
   "id": "bdbca8a0",
   "metadata": {},
   "outputs": [
    {
     "data": {
      "text/plain": [
       "Item_Identifier                 0\n",
       "Item_Weight                  1463\n",
       "Item_Fat_Content                0\n",
       "Item_Visibility                 0\n",
       "Item_Type                       0\n",
       "Item_MRP                        0\n",
       "Outlet_Identifier               0\n",
       "Outlet_Establishment_Year       0\n",
       "Outlet_Size                  2410\n",
       "Outlet_Location_Type            0\n",
       "Outlet_Type                     0\n",
       "Item_Outlet_Sales               0\n",
       "Outlet Age                      0\n",
       "dtype: int64"
      ]
     },
     "execution_count": 11,
     "metadata": {},
     "output_type": "execute_result"
    }
   ],
   "source": [
    "train_df.isnull().sum()"
   ]
  },
  {
   "cell_type": "code",
   "execution_count": 12,
   "id": "e471867d",
   "metadata": {},
   "outputs": [],
   "source": [
    "train_df[\"Item_Weight\"]=train_df[\"Item_Weight\"].fillna(train_df[\"Item_Weight\"].mean())"
   ]
  },
  {
   "cell_type": "code",
   "execution_count": 13,
   "id": "3654551e",
   "metadata": {},
   "outputs": [
    {
     "data": {
      "text/plain": [
       "Item_Identifier                 0\n",
       "Item_Weight                     0\n",
       "Item_Fat_Content                0\n",
       "Item_Visibility                 0\n",
       "Item_Type                       0\n",
       "Item_MRP                        0\n",
       "Outlet_Identifier               0\n",
       "Outlet_Establishment_Year       0\n",
       "Outlet_Size                  2410\n",
       "Outlet_Location_Type            0\n",
       "Outlet_Type                     0\n",
       "Item_Outlet_Sales               0\n",
       "Outlet Age                      0\n",
       "dtype: int64"
      ]
     },
     "execution_count": 13,
     "metadata": {},
     "output_type": "execute_result"
    }
   ],
   "source": [
    "train_df.isnull().sum()"
   ]
  },
  {
   "cell_type": "code",
   "execution_count": 14,
   "id": "0bb07600",
   "metadata": {},
   "outputs": [
    {
     "data": {
      "text/plain": [
       "array(['Medium', nan, 'High', 'Small'], dtype=object)"
      ]
     },
     "execution_count": 14,
     "metadata": {},
     "output_type": "execute_result"
    }
   ],
   "source": [
    "train_df[\"Outlet_Size\"].unique()"
   ]
  },
  {
   "cell_type": "code",
   "execution_count": 15,
   "id": "7ef3b6d1",
   "metadata": {},
   "outputs": [
    {
     "data": {
      "text/plain": [
       "Medium    2793\n",
       "Small     2388\n",
       "High       932\n",
       "Name: Outlet_Size, dtype: int64"
      ]
     },
     "execution_count": 15,
     "metadata": {},
     "output_type": "execute_result"
    }
   ],
   "source": [
    "train_df[\"Outlet_Size\"].value_counts()"
   ]
  },
  {
   "cell_type": "code",
   "execution_count": 16,
   "id": "3834434e",
   "metadata": {},
   "outputs": [
    {
     "data": {
      "text/plain": [
       "0    Medium\n",
       "Name: Outlet_Size, dtype: object"
      ]
     },
     "execution_count": 16,
     "metadata": {},
     "output_type": "execute_result"
    }
   ],
   "source": [
    "train_df[\"Outlet_Size\"].mode()"
   ]
  },
  {
   "cell_type": "code",
   "execution_count": 17,
   "id": "c540b310",
   "metadata": {},
   "outputs": [],
   "source": [
    "train_df[\"Outlet_Size\"]=train_df[\"Outlet_Size\"].fillna(train_df[\"Outlet_Size\"].mode()[0])"
   ]
  },
  {
   "cell_type": "code",
   "execution_count": 18,
   "id": "e79c3e43",
   "metadata": {},
   "outputs": [
    {
     "data": {
      "text/html": [
       "<div>\n",
       "<style scoped>\n",
       "    .dataframe tbody tr th:only-of-type {\n",
       "        vertical-align: middle;\n",
       "    }\n",
       "\n",
       "    .dataframe tbody tr th {\n",
       "        vertical-align: top;\n",
       "    }\n",
       "\n",
       "    .dataframe thead th {\n",
       "        text-align: right;\n",
       "    }\n",
       "</style>\n",
       "<table border=\"1\" class=\"dataframe\">\n",
       "  <thead>\n",
       "    <tr style=\"text-align: right;\">\n",
       "      <th></th>\n",
       "      <th>Item_Weight</th>\n",
       "      <th>Item_Visibility</th>\n",
       "      <th>Item_MRP</th>\n",
       "      <th>Outlet_Establishment_Year</th>\n",
       "      <th>Item_Outlet_Sales</th>\n",
       "      <th>Outlet Age</th>\n",
       "    </tr>\n",
       "  </thead>\n",
       "  <tbody>\n",
       "    <tr>\n",
       "      <th>Item_Weight</th>\n",
       "      <td>1.000000</td>\n",
       "      <td>-0.012049</td>\n",
       "      <td>0.024756</td>\n",
       "      <td>-0.008301</td>\n",
       "      <td>0.011550</td>\n",
       "      <td>0.008301</td>\n",
       "    </tr>\n",
       "    <tr>\n",
       "      <th>Item_Visibility</th>\n",
       "      <td>-0.012049</td>\n",
       "      <td>1.000000</td>\n",
       "      <td>-0.001315</td>\n",
       "      <td>-0.074834</td>\n",
       "      <td>-0.128625</td>\n",
       "      <td>0.074834</td>\n",
       "    </tr>\n",
       "    <tr>\n",
       "      <th>Item_MRP</th>\n",
       "      <td>0.024756</td>\n",
       "      <td>-0.001315</td>\n",
       "      <td>1.000000</td>\n",
       "      <td>0.005020</td>\n",
       "      <td>0.567574</td>\n",
       "      <td>-0.005020</td>\n",
       "    </tr>\n",
       "    <tr>\n",
       "      <th>Outlet_Establishment_Year</th>\n",
       "      <td>-0.008301</td>\n",
       "      <td>-0.074834</td>\n",
       "      <td>0.005020</td>\n",
       "      <td>1.000000</td>\n",
       "      <td>-0.049135</td>\n",
       "      <td>-1.000000</td>\n",
       "    </tr>\n",
       "    <tr>\n",
       "      <th>Item_Outlet_Sales</th>\n",
       "      <td>0.011550</td>\n",
       "      <td>-0.128625</td>\n",
       "      <td>0.567574</td>\n",
       "      <td>-0.049135</td>\n",
       "      <td>1.000000</td>\n",
       "      <td>0.049135</td>\n",
       "    </tr>\n",
       "    <tr>\n",
       "      <th>Outlet Age</th>\n",
       "      <td>0.008301</td>\n",
       "      <td>0.074834</td>\n",
       "      <td>-0.005020</td>\n",
       "      <td>-1.000000</td>\n",
       "      <td>0.049135</td>\n",
       "      <td>1.000000</td>\n",
       "    </tr>\n",
       "  </tbody>\n",
       "</table>\n",
       "</div>"
      ],
      "text/plain": [
       "                           Item_Weight  Item_Visibility  Item_MRP  \\\n",
       "Item_Weight                   1.000000        -0.012049  0.024756   \n",
       "Item_Visibility              -0.012049         1.000000 -0.001315   \n",
       "Item_MRP                      0.024756        -0.001315  1.000000   \n",
       "Outlet_Establishment_Year    -0.008301        -0.074834  0.005020   \n",
       "Item_Outlet_Sales             0.011550        -0.128625  0.567574   \n",
       "Outlet Age                    0.008301         0.074834 -0.005020   \n",
       "\n",
       "                           Outlet_Establishment_Year  Item_Outlet_Sales  \\\n",
       "Item_Weight                                -0.008301           0.011550   \n",
       "Item_Visibility                            -0.074834          -0.128625   \n",
       "Item_MRP                                    0.005020           0.567574   \n",
       "Outlet_Establishment_Year                   1.000000          -0.049135   \n",
       "Item_Outlet_Sales                          -0.049135           1.000000   \n",
       "Outlet Age                                 -1.000000           0.049135   \n",
       "\n",
       "                           Outlet Age  \n",
       "Item_Weight                  0.008301  \n",
       "Item_Visibility              0.074834  \n",
       "Item_MRP                    -0.005020  \n",
       "Outlet_Establishment_Year   -1.000000  \n",
       "Item_Outlet_Sales            0.049135  \n",
       "Outlet Age                   1.000000  "
      ]
     },
     "execution_count": 18,
     "metadata": {},
     "output_type": "execute_result"
    }
   ],
   "source": [
    "train_df.corr()"
   ]
  },
  {
   "cell_type": "code",
   "execution_count": 19,
   "id": "455fb69b",
   "metadata": {},
   "outputs": [
    {
     "data": {
      "text/plain": [
       "Item_Identifier               object\n",
       "Item_Weight                  float64\n",
       "Item_Fat_Content              object\n",
       "Item_Visibility              float64\n",
       "Item_Type                     object\n",
       "Item_MRP                     float64\n",
       "Outlet_Identifier             object\n",
       "Outlet_Establishment_Year      int64\n",
       "Outlet_Size                   object\n",
       "Outlet_Location_Type          object\n",
       "Outlet_Type                   object\n",
       "Item_Outlet_Sales            float64\n",
       "Outlet Age                     int64\n",
       "dtype: object"
      ]
     },
     "execution_count": 19,
     "metadata": {},
     "output_type": "execute_result"
    }
   ],
   "source": [
    "train_df.dtypes"
   ]
  },
  {
   "cell_type": "code",
   "execution_count": 20,
   "id": "c218d051",
   "metadata": {},
   "outputs": [
    {
     "data": {
      "text/plain": [
       "<AxesSubplot:>"
      ]
     },
     "execution_count": 20,
     "metadata": {},
     "output_type": "execute_result"
    },
    {
     "data": {
      "image/png": "[encoded data removed]",
      "text/plain": [
       "<Figure size 640x480 with 1 Axes>"
      ]
     },
     "metadata": {},
     "output_type": "display_data"
    }
   ],
   "source": [
    "train_df[\"Item_Visibility\"].hist(bins=20)"
   ]
  },
  {
   "cell_type": "code",
   "execution_count": 21,
   "id": "10f5a91c",
   "metadata": {},
   "outputs": [],
   "source": [
    "import matplotlib.pyplot as plt"
   ]
  },
  {
   "cell_type": "code",
   "execution_count": 22,
   "id": "fb4379a7",
   "metadata": {},
   "outputs": [
    {
     "data": {
      "text/plain": [
       "{'whiskers': [<matplotlib.lines.Line2D at 0x16290a45790>,\n",
       "  <matplotlib.lines.Line2D at 0x16290a45a60>],\n",
       " 'caps': [<matplotlib.lines.Line2D at 0x16290a45d30>,\n",
       "  <matplotlib.lines.Line2D at 0x16290a56040>],\n",
       " 'boxes': [<matplotlib.lines.Line2D at 0x16290a454c0>],\n",
       " 'medians': [<matplotlib.lines.Line2D at 0x16290a56310>],\n",
       " 'fliers': [<matplotlib.lines.Line2D at 0x16290a565e0>],\n",
       " 'means': []}"
      ]
     },
     "execution_count": 22,
     "metadata": {},
     "output_type": "execute_result"
    },
    {
     "data": {
      "image/png": "[encoded data removed]",
      "text/plain": [
       "<Figure size 640x480 with 1 Axes>"
      ]
     },
     "metadata": {},
     "output_type": "display_data"
    }
   ],
   "source": [
    "plt.boxplot(train_df[\"Item_Visibility\"])"
   ]
  },
  {
   "cell_type": "code",
   "execution_count": 23,
   "id": "dd0a8315",
   "metadata": {},
   "outputs": [],
   "source": [
    "# There are outliers in the data. The outliers should be removed"
   ]
  },
  {
   "cell_type": "code",
   "execution_count": 24,
   "id": "d0ea74db",
   "metadata": {},
   "outputs": [],
   "source": [
    "Q1=train_df[\"Item_Visibility\"].quantile(0.25)\n",
    "Q3=train_df[\"Item_Visibility\"].quantile(0.75)\n",
    "IQR=Q3-Q1\n"
   ]
  },
  {
   "cell_type": "code",
   "execution_count": 25,
   "id": "b6d83a98",
   "metadata": {},
   "outputs": [],
   "source": [
    "filt_df=train_df.query('(@Q1 - 1.5 * @IQR) <= Item_Visibility <= (@Q3 + 1.5 * @IQR)')"
   ]
  },
  {
   "cell_type": "code",
   "execution_count": 26,
   "id": "3e953041",
   "metadata": {},
   "outputs": [
    {
     "data": {
      "text/html": [
       "<div>\n",
       "<style scoped>\n",
       "    .dataframe tbody tr th:only-of-type {\n",
       "        vertical-align: middle;\n",
       "    }\n",
       "\n",
       "    .dataframe tbody tr th {\n",
       "        vertical-align: top;\n",
       "    }\n",
       "\n",
       "    .dataframe thead th {\n",
       "        text-align: right;\n",
       "    }\n",
       "</style>\n",
       "<table border=\"1\" class=\"dataframe\">\n",
       "  <thead>\n",
       "    <tr style=\"text-align: right;\">\n",
       "      <th></th>\n",
       "      <th>Item_Identifier</th>\n",
       "      <th>Item_Weight</th>\n",
       "      <th>Item_Fat_Content</th>\n",
       "      <th>Item_Visibility</th>\n",
       "      <th>Item_Type</th>\n",
       "      <th>Item_MRP</th>\n",
       "      <th>Outlet_Identifier</th>\n",
       "      <th>Outlet_Establishment_Year</th>\n",
       "      <th>Outlet_Size</th>\n",
       "      <th>Outlet_Location_Type</th>\n",
       "      <th>Outlet_Type</th>\n",
       "      <th>Item_Outlet_Sales</th>\n",
       "      <th>Outlet Age</th>\n",
       "    </tr>\n",
       "  </thead>\n",
       "  <tbody>\n",
       "    <tr>\n",
       "      <th>0</th>\n",
       "      <td>FDA15</td>\n",
       "      <td>9.30</td>\n",
       "      <td>Low Fat</td>\n",
       "      <td>0.016047</td>\n",
       "      <td>Dairy</td>\n",
       "      <td>249.8092</td>\n",
       "      <td>OUT049</td>\n",
       "      <td>1999</td>\n",
       "      <td>Medium</td>\n",
       "      <td>Tier 1</td>\n",
       "      <td>Supermarket Type1</td>\n",
       "      <td>3735.1380</td>\n",
       "      <td>24</td>\n",
       "    </tr>\n",
       "    <tr>\n",
       "      <th>1</th>\n",
       "      <td>DRC01</td>\n",
       "      <td>5.92</td>\n",
       "      <td>Regular</td>\n",
       "      <td>0.019278</td>\n",
       "      <td>Soft Drinks</td>\n",
       "      <td>48.2692</td>\n",
       "      <td>OUT018</td>\n",
       "      <td>2009</td>\n",
       "      <td>Medium</td>\n",
       "      <td>Tier 3</td>\n",
       "      <td>Supermarket Type2</td>\n",
       "      <td>443.4228</td>\n",
       "      <td>14</td>\n",
       "    </tr>\n",
       "    <tr>\n",
       "      <th>2</th>\n",
       "      <td>FDN15</td>\n",
       "      <td>17.50</td>\n",
       "      <td>Low Fat</td>\n",
       "      <td>0.016760</td>\n",
       "      <td>Meat</td>\n",
       "      <td>141.6180</td>\n",
       "      <td>OUT049</td>\n",
       "      <td>1999</td>\n",
       "      <td>Medium</td>\n",
       "      <td>Tier 1</td>\n",
       "      <td>Supermarket Type1</td>\n",
       "      <td>2097.2700</td>\n",
       "      <td>24</td>\n",
       "    </tr>\n",
       "    <tr>\n",
       "      <th>3</th>\n",
       "      <td>FDX07</td>\n",
       "      <td>19.20</td>\n",
       "      <td>Regular</td>\n",
       "      <td>0.000000</td>\n",
       "      <td>Fruits and Vegetables</td>\n",
       "      <td>182.0950</td>\n",
       "      <td>OUT010</td>\n",
       "      <td>1998</td>\n",
       "      <td>Medium</td>\n",
       "      <td>Tier 3</td>\n",
       "      <td>Grocery Store</td>\n",
       "      <td>732.3800</td>\n",
       "      <td>25</td>\n",
       "    </tr>\n",
       "    <tr>\n",
       "      <th>4</th>\n",
       "      <td>NCD19</td>\n",
       "      <td>8.93</td>\n",
       "      <td>Low Fat</td>\n",
       "      <td>0.000000</td>\n",
       "      <td>Household</td>\n",
       "      <td>53.8614</td>\n",
       "      <td>OUT013</td>\n",
       "      <td>1987</td>\n",
       "      <td>High</td>\n",
       "      <td>Tier 3</td>\n",
       "      <td>Supermarket Type1</td>\n",
       "      <td>994.7052</td>\n",
       "      <td>36</td>\n",
       "    </tr>\n",
       "  </tbody>\n",
       "</table>\n",
       "</div>"
      ],
      "text/plain": [
       "  Item_Identifier  Item_Weight Item_Fat_Content  Item_Visibility  \\\n",
       "0           FDA15         9.30          Low Fat         0.016047   \n",
       "1           DRC01         5.92          Regular         0.019278   \n",
       "2           FDN15        17.50          Low Fat         0.016760   \n",
       "3           FDX07        19.20          Regular         0.000000   \n",
       "4           NCD19         8.93          Low Fat         0.000000   \n",
       "\n",
       "               Item_Type  Item_MRP Outlet_Identifier  \\\n",
       "0                  Dairy  249.8092            OUT049   \n",
       "1            Soft Drinks   48.2692            OUT018   \n",
       "2                   Meat  141.6180            OUT049   \n",
       "3  Fruits and Vegetables  182.0950            OUT010   \n",
       "4              Household   53.8614            OUT013   \n",
       "\n",
       "   Outlet_Establishment_Year Outlet_Size Outlet_Location_Type  \\\n",
       "0                       1999      Medium               Tier 1   \n",
       "1                       2009      Medium               Tier 3   \n",
       "2                       1999      Medium               Tier 1   \n",
       "3                       1998      Medium               Tier 3   \n",
       "4                       1987        High               Tier 3   \n",
       "\n",
       "         Outlet_Type  Item_Outlet_Sales  Outlet Age  \n",
       "0  Supermarket Type1          3735.1380          24  \n",
       "1  Supermarket Type2           443.4228          14  \n",
       "2  Supermarket Type1          2097.2700          24  \n",
       "3      Grocery Store           732.3800          25  \n",
       "4  Supermarket Type1           994.7052          36  "
      ]
     },
     "execution_count": 26,
     "metadata": {},
     "output_type": "execute_result"
    }
   ],
   "source": [
    "filt_df.head(5)"
   ]
  },
  {
   "cell_type": "code",
   "execution_count": 27,
   "id": "57a8fe1f",
   "metadata": {},
   "outputs": [
    {
     "data": {
      "text/plain": [
       "{'whiskers': [<matplotlib.lines.Line2D at 0x16290ae3580>,\n",
       "  <matplotlib.lines.Line2D at 0x16290ae3850>],\n",
       " 'caps': [<matplotlib.lines.Line2D at 0x16290ae3b20>,\n",
       "  <matplotlib.lines.Line2D at 0x16290ae3df0>],\n",
       " 'boxes': [<matplotlib.lines.Line2D at 0x16290ae32b0>],\n",
       " 'medians': [<matplotlib.lines.Line2D at 0x16290af0100>],\n",
       " 'fliers': [<matplotlib.lines.Line2D at 0x16290af03d0>],\n",
       " 'means': []}"
      ]
     },
     "execution_count": 27,
     "metadata": {},
     "output_type": "execute_result"
    },
    {
     "data": {
      "image/png": "[encoded data removed]",
      "text/plain": [
       "<Figure size 640x480 with 1 Axes>"
      ]
     },
     "metadata": {},
     "output_type": "display_data"
    }
   ],
   "source": [
    "plt.boxplot(filt_df[\"Item_Visibility\"])"
   ]
  },
  {
   "cell_type": "code",
   "execution_count": 28,
   "id": "8376b33c",
   "metadata": {},
   "outputs": [],
   "source": [
    "train_df=filt_df"
   ]
  },
  {
   "cell_type": "code",
   "execution_count": 29,
   "id": "fe18949a",
   "metadata": {},
   "outputs": [
    {
     "data": {
      "text/plain": [
       "(8379, 13)"
      ]
     },
     "execution_count": 29,
     "metadata": {},
     "output_type": "execute_result"
    }
   ],
   "source": [
    "train_df.shape"
   ]
  },
  {
   "cell_type": "code",
   "execution_count": 30,
   "id": "f099d824",
   "metadata": {},
   "outputs": [
    {
     "data": {
      "text/plain": [
       "0.000000    526\n",
       "0.076975      3\n",
       "0.093914      2\n",
       "0.086765      2\n",
       "0.046825      2\n",
       "           ... \n",
       "0.124646      1\n",
       "0.054142      1\n",
       "0.018920      1\n",
       "0.044974      1\n",
       "0.044878      1\n",
       "Name: Item_Visibility, Length: 7736, dtype: int64"
      ]
     },
     "execution_count": 30,
     "metadata": {},
     "output_type": "execute_result"
    }
   ],
   "source": [
    "train_df[\"Item_Visibility\"].value_counts()"
   ]
  },
  {
   "cell_type": "code",
   "execution_count": 31,
   "id": "20396921",
   "metadata": {},
   "outputs": [],
   "source": [
    "# Creating a category\n",
    "train_df[\"Item_Visibility_bins\"] = pd.cut(train_df[\"Item_Visibility\"],[0.00,0.065,0.13,0.2],labels=['Low Viz','Viz','High Viz'])"
   ]
  },
  {
   "cell_type": "code",
   "execution_count": 32,
   "id": "5e06105b",
   "metadata": {},
   "outputs": [
    {
     "data": {
      "text/plain": [
       "Low Viz     4403\n",
       "Viz         2557\n",
       "High Viz     893\n",
       "Name: Item_Visibility_bins, dtype: int64"
      ]
     },
     "execution_count": 32,
     "metadata": {},
     "output_type": "execute_result"
    }
   ],
   "source": [
    "train_df[\"Item_Visibility_bins\"].value_counts()"
   ]
  },
  {
   "cell_type": "code",
   "execution_count": 33,
   "id": "f4f31c40",
   "metadata": {},
   "outputs": [],
   "source": [
    "train_df[\"Item_Visibility_bins\"]=train_df[\"Item_Visibility_bins\"].replace(np.nan,'Low Viz',regex=True)"
   ]
  },
  {
   "cell_type": "code",
   "execution_count": 34,
   "id": "439a11b4",
   "metadata": {},
   "outputs": [
    {
     "data": {
      "text/plain": [
       "Low Viz     4403\n",
       "Viz         2557\n",
       "High Viz     893\n",
       "Name: Item_Visibility_bins, dtype: int64"
      ]
     },
     "execution_count": 34,
     "metadata": {},
     "output_type": "execute_result"
    }
   ],
   "source": [
    "train_df[\"Item_Visibility_bins\"].value_counts()"
   ]
  },
  {
   "cell_type": "code",
   "execution_count": 35,
   "id": "77b2d4bd",
   "metadata": {},
   "outputs": [
    {
     "data": {
      "text/plain": [
       "526"
      ]
     },
     "execution_count": 35,
     "metadata": {},
     "output_type": "execute_result"
    }
   ],
   "source": [
    "train_df[\"Item_Visibility_bins\"].isnull().sum()"
   ]
  },
  {
   "cell_type": "code",
   "execution_count": 36,
   "id": "b0e32eb2",
   "metadata": {},
   "outputs": [
    {
     "data": {
      "text/plain": [
       "Index(['Item_Identifier', 'Item_Weight', 'Item_Fat_Content', 'Item_Visibility',\n",
       "       'Item_Type', 'Item_MRP', 'Outlet_Identifier',\n",
       "       'Outlet_Establishment_Year', 'Outlet_Size', 'Outlet_Location_Type',\n",
       "       'Outlet_Type', 'Item_Outlet_Sales', 'Outlet Age',\n",
       "       'Item_Visibility_bins'],\n",
       "      dtype='object')"
      ]
     },
     "execution_count": 36,
     "metadata": {},
     "output_type": "execute_result"
    }
   ],
   "source": [
    "train_df.keys()"
   ]
  },
  {
   "cell_type": "code",
   "execution_count": 37,
   "id": "db307add",
   "metadata": {},
   "outputs": [
    {
     "data": {
      "text/plain": [
       "Low Fat    5016\n",
       "Regular    2831\n",
       "LF          307\n",
       "reg         116\n",
       "low fat     109\n",
       "Name: Item_Fat_Content, dtype: int64"
      ]
     },
     "execution_count": 37,
     "metadata": {},
     "output_type": "execute_result"
    }
   ],
   "source": [
    "train_df[\"Item_Fat_Content\"].value_counts()"
   ]
  },
  {
   "cell_type": "code",
   "execution_count": 38,
   "id": "458a4756",
   "metadata": {},
   "outputs": [],
   "source": [
    "# Replacing the values of the LF , low fat, with Low Fat and reg with Regular"
   ]
  },
  {
   "cell_type": "code",
   "execution_count": 39,
   "id": "50e361c8",
   "metadata": {},
   "outputs": [],
   "source": [
    "train_df[\"Item_Fat_Content\"]=train_df[\"Item_Fat_Content\"].replace(['LF','low fat'],'Low Fat')"
   ]
  },
  {
   "cell_type": "code",
   "execution_count": 40,
   "id": "66b35346",
   "metadata": {},
   "outputs": [],
   "source": [
    "train_df[\"Item_Fat_Content\"]=train_df[\"Item_Fat_Content\"].replace('reg','Regular')"
   ]
  },
  {
   "cell_type": "code",
   "execution_count": 41,
   "id": "120b22ac",
   "metadata": {},
   "outputs": [
    {
     "data": {
      "text/plain": [
       "Low Fat    5432\n",
       "Regular    2947\n",
       "Name: Item_Fat_Content, dtype: int64"
      ]
     },
     "execution_count": 41,
     "metadata": {},
     "output_type": "execute_result"
    }
   ],
   "source": [
    "train_df[\"Item_Fat_Content\"].value_counts()"
   ]
  },
  {
   "cell_type": "code",
   "execution_count": 42,
   "id": "b5695bc5",
   "metadata": {},
   "outputs": [
    {
     "data": {
      "text/plain": [
       "Item_Identifier                object\n",
       "Item_Weight                   float64\n",
       "Item_Fat_Content               object\n",
       "Item_Visibility               float64\n",
       "Item_Type                      object\n",
       "Item_MRP                      float64\n",
       "Outlet_Identifier              object\n",
       "Outlet_Establishment_Year       int64\n",
       "Outlet_Size                    object\n",
       "Outlet_Location_Type           object\n",
       "Outlet_Type                    object\n",
       "Item_Outlet_Sales             float64\n",
       "Outlet Age                      int64\n",
       "Item_Visibility_bins         category\n",
       "dtype: object"
      ]
     },
     "execution_count": 42,
     "metadata": {},
     "output_type": "execute_result"
    }
   ],
   "source": [
    "train_df.dtypes"
   ]
  },
  {
   "cell_type": "code",
   "execution_count": 43,
   "id": "804c3f1b",
   "metadata": {},
   "outputs": [],
   "source": [
    "train_df=train_df.drop([\"Item_Identifier\",'Item_Type','Outlet_Identifier','Outlet_Type','Outlet_Establishment_Year'],axis=1)"
   ]
  },
  {
   "cell_type": "code",
   "execution_count": 44,
   "id": "e5830e21",
   "metadata": {},
   "outputs": [
    {
     "data": {
      "text/plain": [
       "Item_Weight              float64\n",
       "Item_Fat_Content          object\n",
       "Item_Visibility          float64\n",
       "Item_MRP                 float64\n",
       "Outlet_Size               object\n",
       "Outlet_Location_Type      object\n",
       "Item_Outlet_Sales        float64\n",
       "Outlet Age                 int64\n",
       "Item_Visibility_bins    category\n",
       "dtype: object"
      ]
     },
     "execution_count": 44,
     "metadata": {},
     "output_type": "execute_result"
    }
   ],
   "source": [
    "train_df.dtypes"
   ]
  },
  {
   "cell_type": "code",
   "execution_count": 45,
   "id": "8dd1155a",
   "metadata": {},
   "outputs": [],
   "source": [
    "from sklearn.preprocessing import LabelEncoder\n",
    "le=LabelEncoder()"
   ]
  },
  {
   "cell_type": "code",
   "execution_count": 46,
   "id": "21b45269",
   "metadata": {},
   "outputs": [],
   "source": [
    "train_df[\"Item_Fat_Content\"]=le.fit_transform(train_df[\"Item_Fat_Content\"])"
   ]
  },
  {
   "cell_type": "code",
   "execution_count": 47,
   "id": "c7b26053",
   "metadata": {},
   "outputs": [
    {
     "data": {
      "text/plain": [
       "0    5432\n",
       "1    2947\n",
       "Name: Item_Fat_Content, dtype: int64"
      ]
     },
     "execution_count": 47,
     "metadata": {},
     "output_type": "execute_result"
    }
   ],
   "source": [
    "train_df[\"Item_Fat_Content\"].value_counts()"
   ]
  },
  {
   "cell_type": "code",
   "execution_count": 48,
   "id": "efb67893",
   "metadata": {},
   "outputs": [
    {
     "data": {
      "text/plain": [
       "Medium    5136\n",
       "Small     2311\n",
       "High       932\n",
       "Name: Outlet_Size, dtype: int64"
      ]
     },
     "execution_count": 48,
     "metadata": {},
     "output_type": "execute_result"
    }
   ],
   "source": [
    "train_df[\"Outlet_Size\"].value_counts()"
   ]
  },
  {
   "cell_type": "code",
   "execution_count": 49,
   "id": "54add33f",
   "metadata": {},
   "outputs": [],
   "source": [
    "train_df[\"Outlet_Size\"]=le.fit_transform(train_df[\"Outlet_Size\"])"
   ]
  },
  {
   "cell_type": "code",
   "execution_count": 50,
   "id": "ec57dc18",
   "metadata": {},
   "outputs": [
    {
     "data": {
      "text/plain": [
       "Tier 3    3283\n",
       "Tier 2    2785\n",
       "Tier 1    2311\n",
       "Name: Outlet_Location_Type, dtype: int64"
      ]
     },
     "execution_count": 50,
     "metadata": {},
     "output_type": "execute_result"
    }
   ],
   "source": [
    "train_df[\"Outlet_Location_Type\"].value_counts()"
   ]
  },
  {
   "cell_type": "code",
   "execution_count": 51,
   "id": "6eb99c97",
   "metadata": {},
   "outputs": [],
   "source": [
    "train_df[\"Outlet_Location_Type\"]=le.fit_transform(train_df[\"Outlet_Location_Type\"])"
   ]
  },
  {
   "cell_type": "code",
   "execution_count": 52,
   "id": "2286bea7",
   "metadata": {},
   "outputs": [
    {
     "data": {
      "text/plain": [
       "Low Viz     4403\n",
       "Viz         2557\n",
       "High Viz     893\n",
       "Name: Item_Visibility_bins, dtype: int64"
      ]
     },
     "execution_count": 52,
     "metadata": {},
     "output_type": "execute_result"
    }
   ],
   "source": [
    "train_df[\"Item_Visibility_bins\"].value_counts()"
   ]
  },
  {
   "cell_type": "code",
   "execution_count": 53,
   "id": "8f91bf19",
   "metadata": {},
   "outputs": [],
   "source": [
    "train_df[\"Item_Visibility_bins\"]=le.fit_transform(train_df[\"Item_Visibility_bins\"])"
   ]
  },
  {
   "cell_type": "code",
   "execution_count": 54,
   "id": "fe7409c7",
   "metadata": {},
   "outputs": [],
   "source": [
    "train_dff=pd.read_csv(\"bigmart_train.csv\")"
   ]
  },
  {
   "cell_type": "code",
   "execution_count": 55,
   "id": "d78a3295",
   "metadata": {},
   "outputs": [],
   "source": [
    "train_dff=train_dff.drop(['Item_Identifier', 'Item_Weight', 'Item_Fat_Content', 'Item_Visibility',\n",
    "       'Item_Type', 'Item_MRP', 'Outlet_Identifier',\n",
    "       'Outlet_Establishment_Year', 'Outlet_Size', 'Outlet_Location_Type', 'Item_Outlet_Sales'],axis=1)"
   ]
  },
  {
   "cell_type": "code",
   "execution_count": 56,
   "id": "16e99953",
   "metadata": {},
   "outputs": [
    {
     "data": {
      "text/html": [
       "<div>\n",
       "<style scoped>\n",
       "    .dataframe tbody tr th:only-of-type {\n",
       "        vertical-align: middle;\n",
       "    }\n",
       "\n",
       "    .dataframe tbody tr th {\n",
       "        vertical-align: top;\n",
       "    }\n",
       "\n",
       "    .dataframe thead th {\n",
       "        text-align: right;\n",
       "    }\n",
       "</style>\n",
       "<table border=\"1\" class=\"dataframe\">\n",
       "  <thead>\n",
       "    <tr style=\"text-align: right;\">\n",
       "      <th></th>\n",
       "      <th>Outlet_Type</th>\n",
       "    </tr>\n",
       "  </thead>\n",
       "  <tbody>\n",
       "    <tr>\n",
       "      <th>0</th>\n",
       "      <td>Supermarket Type1</td>\n",
       "    </tr>\n",
       "    <tr>\n",
       "      <th>1</th>\n",
       "      <td>Supermarket Type2</td>\n",
       "    </tr>\n",
       "    <tr>\n",
       "      <th>2</th>\n",
       "      <td>Supermarket Type1</td>\n",
       "    </tr>\n",
       "    <tr>\n",
       "      <th>3</th>\n",
       "      <td>Grocery Store</td>\n",
       "    </tr>\n",
       "    <tr>\n",
       "      <th>4</th>\n",
       "      <td>Supermarket Type1</td>\n",
       "    </tr>\n",
       "  </tbody>\n",
       "</table>\n",
       "</div>"
      ],
      "text/plain": [
       "         Outlet_Type\n",
       "0  Supermarket Type1\n",
       "1  Supermarket Type2\n",
       "2  Supermarket Type1\n",
       "3      Grocery Store\n",
       "4  Supermarket Type1"
      ]
     },
     "execution_count": 56,
     "metadata": {},
     "output_type": "execute_result"
    }
   ],
   "source": [
    "train_dff.head(5)"
   ]
  },
  {
   "cell_type": "code",
   "execution_count": 57,
   "id": "07d127ce",
   "metadata": {},
   "outputs": [],
   "source": [
    "train_df=pd.concat([train_df,train_dff],axis=1)"
   ]
  },
  {
   "cell_type": "code",
   "execution_count": 58,
   "id": "8de17131",
   "metadata": {},
   "outputs": [
    {
     "data": {
      "text/html": [
       "<div>\n",
       "<style scoped>\n",
       "    .dataframe tbody tr th:only-of-type {\n",
       "        vertical-align: middle;\n",
       "    }\n",
       "\n",
       "    .dataframe tbody tr th {\n",
       "        vertical-align: top;\n",
       "    }\n",
       "\n",
       "    .dataframe thead th {\n",
       "        text-align: right;\n",
       "    }\n",
       "</style>\n",
       "<table border=\"1\" class=\"dataframe\">\n",
       "  <thead>\n",
       "    <tr style=\"text-align: right;\">\n",
       "      <th></th>\n",
       "      <th>Item_Weight</th>\n",
       "      <th>Item_Fat_Content</th>\n",
       "      <th>Item_Visibility</th>\n",
       "      <th>Item_MRP</th>\n",
       "      <th>Outlet_Size</th>\n",
       "      <th>Outlet_Location_Type</th>\n",
       "      <th>Item_Outlet_Sales</th>\n",
       "      <th>Outlet Age</th>\n",
       "      <th>Item_Visibility_bins</th>\n",
       "      <th>Outlet_Type</th>\n",
       "    </tr>\n",
       "  </thead>\n",
       "  <tbody>\n",
       "    <tr>\n",
       "      <th>0</th>\n",
       "      <td>9.30</td>\n",
       "      <td>0.0</td>\n",
       "      <td>0.016047</td>\n",
       "      <td>249.8092</td>\n",
       "      <td>1.0</td>\n",
       "      <td>0.0</td>\n",
       "      <td>3735.1380</td>\n",
       "      <td>24.0</td>\n",
       "      <td>1.0</td>\n",
       "      <td>Supermarket Type1</td>\n",
       "    </tr>\n",
       "    <tr>\n",
       "      <th>1</th>\n",
       "      <td>5.92</td>\n",
       "      <td>1.0</td>\n",
       "      <td>0.019278</td>\n",
       "      <td>48.2692</td>\n",
       "      <td>1.0</td>\n",
       "      <td>2.0</td>\n",
       "      <td>443.4228</td>\n",
       "      <td>14.0</td>\n",
       "      <td>1.0</td>\n",
       "      <td>Supermarket Type2</td>\n",
       "    </tr>\n",
       "    <tr>\n",
       "      <th>2</th>\n",
       "      <td>17.50</td>\n",
       "      <td>0.0</td>\n",
       "      <td>0.016760</td>\n",
       "      <td>141.6180</td>\n",
       "      <td>1.0</td>\n",
       "      <td>0.0</td>\n",
       "      <td>2097.2700</td>\n",
       "      <td>24.0</td>\n",
       "      <td>1.0</td>\n",
       "      <td>Supermarket Type1</td>\n",
       "    </tr>\n",
       "    <tr>\n",
       "      <th>3</th>\n",
       "      <td>19.20</td>\n",
       "      <td>1.0</td>\n",
       "      <td>0.000000</td>\n",
       "      <td>182.0950</td>\n",
       "      <td>1.0</td>\n",
       "      <td>2.0</td>\n",
       "      <td>732.3800</td>\n",
       "      <td>25.0</td>\n",
       "      <td>3.0</td>\n",
       "      <td>Grocery Store</td>\n",
       "    </tr>\n",
       "    <tr>\n",
       "      <th>4</th>\n",
       "      <td>8.93</td>\n",
       "      <td>0.0</td>\n",
       "      <td>0.000000</td>\n",
       "      <td>53.8614</td>\n",
       "      <td>0.0</td>\n",
       "      <td>2.0</td>\n",
       "      <td>994.7052</td>\n",
       "      <td>36.0</td>\n",
       "      <td>3.0</td>\n",
       "      <td>Supermarket Type1</td>\n",
       "    </tr>\n",
       "  </tbody>\n",
       "</table>\n",
       "</div>"
      ],
      "text/plain": [
       "   Item_Weight  Item_Fat_Content  Item_Visibility  Item_MRP  Outlet_Size  \\\n",
       "0         9.30               0.0         0.016047  249.8092          1.0   \n",
       "1         5.92               1.0         0.019278   48.2692          1.0   \n",
       "2        17.50               0.0         0.016760  141.6180          1.0   \n",
       "3        19.20               1.0         0.000000  182.0950          1.0   \n",
       "4         8.93               0.0         0.000000   53.8614          0.0   \n",
       "\n",
       "   Outlet_Location_Type  Item_Outlet_Sales  Outlet Age  Item_Visibility_bins  \\\n",
       "0                   0.0          3735.1380        24.0                   1.0   \n",
       "1                   2.0           443.4228        14.0                   1.0   \n",
       "2                   0.0          2097.2700        24.0                   1.0   \n",
       "3                   2.0           732.3800        25.0                   3.0   \n",
       "4                   2.0           994.7052        36.0                   3.0   \n",
       "\n",
       "         Outlet_Type  \n",
       "0  Supermarket Type1  \n",
       "1  Supermarket Type2  \n",
       "2  Supermarket Type1  \n",
       "3      Grocery Store  \n",
       "4  Supermarket Type1  "
      ]
     },
     "execution_count": 58,
     "metadata": {},
     "output_type": "execute_result"
    }
   ],
   "source": [
    "train_df.head(5)"
   ]
  },
  {
   "cell_type": "code",
   "execution_count": 59,
   "id": "7de32eb2",
   "metadata": {},
   "outputs": [
    {
     "data": {
      "text/plain": [
       "Item_Weight             float64\n",
       "Item_Fat_Content        float64\n",
       "Item_Visibility         float64\n",
       "Item_MRP                float64\n",
       "Outlet_Size             float64\n",
       "Outlet_Location_Type    float64\n",
       "Item_Outlet_Sales       float64\n",
       "Outlet Age              float64\n",
       "Item_Visibility_bins    float64\n",
       "Outlet_Type              object\n",
       "dtype: object"
      ]
     },
     "execution_count": 59,
     "metadata": {},
     "output_type": "execute_result"
    }
   ],
   "source": [
    "train_df.dtypes"
   ]
  },
  {
   "cell_type": "code",
   "execution_count": 60,
   "id": "ae5b50f0",
   "metadata": {},
   "outputs": [],
   "source": [
    "dummy=pd.get_dummies(train_df[\"Outlet_Type\"])"
   ]
  },
  {
   "cell_type": "code",
   "execution_count": 61,
   "id": "05294875",
   "metadata": {},
   "outputs": [
    {
     "data": {
      "text/html": [
       "<div>\n",
       "<style scoped>\n",
       "    .dataframe tbody tr th:only-of-type {\n",
       "        vertical-align: middle;\n",
       "    }\n",
       "\n",
       "    .dataframe tbody tr th {\n",
       "        vertical-align: top;\n",
       "    }\n",
       "\n",
       "    .dataframe thead th {\n",
       "        text-align: right;\n",
       "    }\n",
       "</style>\n",
       "<table border=\"1\" class=\"dataframe\">\n",
       "  <thead>\n",
       "    <tr style=\"text-align: right;\">\n",
       "      <th></th>\n",
       "      <th>Grocery Store</th>\n",
       "      <th>Supermarket Type1</th>\n",
       "      <th>Supermarket Type2</th>\n",
       "      <th>Supermarket Type3</th>\n",
       "    </tr>\n",
       "  </thead>\n",
       "  <tbody>\n",
       "    <tr>\n",
       "      <th>0</th>\n",
       "      <td>0</td>\n",
       "      <td>1</td>\n",
       "      <td>0</td>\n",
       "      <td>0</td>\n",
       "    </tr>\n",
       "    <tr>\n",
       "      <th>1</th>\n",
       "      <td>0</td>\n",
       "      <td>0</td>\n",
       "      <td>1</td>\n",
       "      <td>0</td>\n",
       "    </tr>\n",
       "  </tbody>\n",
       "</table>\n",
       "</div>"
      ],
      "text/plain": [
       "   Grocery Store  Supermarket Type1  Supermarket Type2  Supermarket Type3\n",
       "0              0                  1                  0                  0\n",
       "1              0                  0                  1                  0"
      ]
     },
     "execution_count": 61,
     "metadata": {},
     "output_type": "execute_result"
    }
   ],
   "source": [
    "dummy.head(2)"
   ]
  },
  {
   "cell_type": "code",
   "execution_count": 62,
   "id": "e91c7b35",
   "metadata": {},
   "outputs": [],
   "source": [
    "train_df=pd.concat([train_df,dummy],axis=1)"
   ]
  },
  {
   "cell_type": "code",
   "execution_count": 63,
   "id": "d36f2c5a",
   "metadata": {},
   "outputs": [
    {
     "data": {
      "text/html": [
       "<div>\n",
       "<style scoped>\n",
       "    .dataframe tbody tr th:only-of-type {\n",
       "        vertical-align: middle;\n",
       "    }\n",
       "\n",
       "    .dataframe tbody tr th {\n",
       "        vertical-align: top;\n",
       "    }\n",
       "\n",
       "    .dataframe thead th {\n",
       "        text-align: right;\n",
       "    }\n",
       "</style>\n",
       "<table border=\"1\" class=\"dataframe\">\n",
       "  <thead>\n",
       "    <tr style=\"text-align: right;\">\n",
       "      <th></th>\n",
       "      <th>Item_Weight</th>\n",
       "      <th>Item_Fat_Content</th>\n",
       "      <th>Item_Visibility</th>\n",
       "      <th>Item_MRP</th>\n",
       "      <th>Outlet_Size</th>\n",
       "      <th>Outlet_Location_Type</th>\n",
       "      <th>Item_Outlet_Sales</th>\n",
       "      <th>Outlet Age</th>\n",
       "      <th>Item_Visibility_bins</th>\n",
       "      <th>Outlet_Type</th>\n",
       "      <th>Grocery Store</th>\n",
       "      <th>Supermarket Type1</th>\n",
       "      <th>Supermarket Type2</th>\n",
       "      <th>Supermarket Type3</th>\n",
       "    </tr>\n",
       "  </thead>\n",
       "  <tbody>\n",
       "    <tr>\n",
       "      <th>0</th>\n",
       "      <td>9.30</td>\n",
       "      <td>0.0</td>\n",
       "      <td>0.016047</td>\n",
       "      <td>249.8092</td>\n",
       "      <td>1.0</td>\n",
       "      <td>0.0</td>\n",
       "      <td>3735.1380</td>\n",
       "      <td>24.0</td>\n",
       "      <td>1.0</td>\n",
       "      <td>Supermarket Type1</td>\n",
       "      <td>0</td>\n",
       "      <td>1</td>\n",
       "      <td>0</td>\n",
       "      <td>0</td>\n",
       "    </tr>\n",
       "    <tr>\n",
       "      <th>1</th>\n",
       "      <td>5.92</td>\n",
       "      <td>1.0</td>\n",
       "      <td>0.019278</td>\n",
       "      <td>48.2692</td>\n",
       "      <td>1.0</td>\n",
       "      <td>2.0</td>\n",
       "      <td>443.4228</td>\n",
       "      <td>14.0</td>\n",
       "      <td>1.0</td>\n",
       "      <td>Supermarket Type2</td>\n",
       "      <td>0</td>\n",
       "      <td>0</td>\n",
       "      <td>1</td>\n",
       "      <td>0</td>\n",
       "    </tr>\n",
       "    <tr>\n",
       "      <th>2</th>\n",
       "      <td>17.50</td>\n",
       "      <td>0.0</td>\n",
       "      <td>0.016760</td>\n",
       "      <td>141.6180</td>\n",
       "      <td>1.0</td>\n",
       "      <td>0.0</td>\n",
       "      <td>2097.2700</td>\n",
       "      <td>24.0</td>\n",
       "      <td>1.0</td>\n",
       "      <td>Supermarket Type1</td>\n",
       "      <td>0</td>\n",
       "      <td>1</td>\n",
       "      <td>0</td>\n",
       "      <td>0</td>\n",
       "    </tr>\n",
       "    <tr>\n",
       "      <th>3</th>\n",
       "      <td>19.20</td>\n",
       "      <td>1.0</td>\n",
       "      <td>0.000000</td>\n",
       "      <td>182.0950</td>\n",
       "      <td>1.0</td>\n",
       "      <td>2.0</td>\n",
       "      <td>732.3800</td>\n",
       "      <td>25.0</td>\n",
       "      <td>3.0</td>\n",
       "      <td>Grocery Store</td>\n",
       "      <td>1</td>\n",
       "      <td>0</td>\n",
       "      <td>0</td>\n",
       "      <td>0</td>\n",
       "    </tr>\n",
       "    <tr>\n",
       "      <th>4</th>\n",
       "      <td>8.93</td>\n",
       "      <td>0.0</td>\n",
       "      <td>0.000000</td>\n",
       "      <td>53.8614</td>\n",
       "      <td>0.0</td>\n",
       "      <td>2.0</td>\n",
       "      <td>994.7052</td>\n",
       "      <td>36.0</td>\n",
       "      <td>3.0</td>\n",
       "      <td>Supermarket Type1</td>\n",
       "      <td>0</td>\n",
       "      <td>1</td>\n",
       "      <td>0</td>\n",
       "      <td>0</td>\n",
       "    </tr>\n",
       "  </tbody>\n",
       "</table>\n",
       "</div>"
      ],
      "text/plain": [
       "   Item_Weight  Item_Fat_Content  Item_Visibility  Item_MRP  Outlet_Size  \\\n",
       "0         9.30               0.0         0.016047  249.8092          1.0   \n",
       "1         5.92               1.0         0.019278   48.2692          1.0   \n",
       "2        17.50               0.0         0.016760  141.6180          1.0   \n",
       "3        19.20               1.0         0.000000  182.0950          1.0   \n",
       "4         8.93               0.0         0.000000   53.8614          0.0   \n",
       "\n",
       "   Outlet_Location_Type  Item_Outlet_Sales  Outlet Age  Item_Visibility_bins  \\\n",
       "0                   0.0          3735.1380        24.0                   1.0   \n",
       "1                   2.0           443.4228        14.0                   1.0   \n",
       "2                   0.0          2097.2700        24.0                   1.0   \n",
       "3                   2.0           732.3800        25.0                   3.0   \n",
       "4                   2.0           994.7052        36.0                   3.0   \n",
       "\n",
       "         Outlet_Type  Grocery Store  Supermarket Type1  Supermarket Type2  \\\n",
       "0  Supermarket Type1              0                  1                  0   \n",
       "1  Supermarket Type2              0                  0                  1   \n",
       "2  Supermarket Type1              0                  1                  0   \n",
       "3      Grocery Store              1                  0                  0   \n",
       "4  Supermarket Type1              0                  1                  0   \n",
       "\n",
       "   Supermarket Type3  \n",
       "0                  0  \n",
       "1                  0  \n",
       "2                  0  \n",
       "3                  0  \n",
       "4                  0  "
      ]
     },
     "execution_count": 63,
     "metadata": {},
     "output_type": "execute_result"
    }
   ],
   "source": [
    "train_df.head(5)"
   ]
  },
  {
   "cell_type": "code",
   "execution_count": 64,
   "id": "3bb566f5",
   "metadata": {},
   "outputs": [],
   "source": [
    "train_df=train_df.drop([\"Outlet_Type\"],axis=1)"
   ]
  },
  {
   "cell_type": "code",
   "execution_count": 65,
   "id": "6bb5efd2",
   "metadata": {},
   "outputs": [],
   "source": [
    "# Building the logistic regression model"
   ]
  },
  {
   "cell_type": "code",
   "execution_count": 66,
   "id": "93cad4dd",
   "metadata": {},
   "outputs": [],
   "source": [
    "from sklearn.model_selection import train_test_split"
   ]
  },
  {
   "cell_type": "code",
   "execution_count": 68,
   "id": "013c1c4f",
   "metadata": {},
   "outputs": [],
   "source": [
    "test_df=pd.read_csv(\"bigmart_test.csv\")"
   ]
  },
  {
   "cell_type": "code",
   "execution_count": 69,
   "id": "f4e7ce6e",
   "metadata": {},
   "outputs": [
    {
     "data": {
      "text/html": [
       "<div>\n",
       "<style scoped>\n",
       "    .dataframe tbody tr th:only-of-type {\n",
       "        vertical-align: middle;\n",
       "    }\n",
       "\n",
       "    .dataframe tbody tr th {\n",
       "        vertical-align: top;\n",
       "    }\n",
       "\n",
       "    .dataframe thead th {\n",
       "        text-align: right;\n",
       "    }\n",
       "</style>\n",
       "<table border=\"1\" class=\"dataframe\">\n",
       "  <thead>\n",
       "    <tr style=\"text-align: right;\">\n",
       "      <th></th>\n",
       "      <th>Item_Identifier</th>\n",
       "      <th>Item_Weight</th>\n",
       "      <th>Item_Fat_Content</th>\n",
       "      <th>Item_Visibility</th>\n",
       "      <th>Item_Type</th>\n",
       "      <th>Item_MRP</th>\n",
       "      <th>Outlet_Identifier</th>\n",
       "      <th>Outlet_Establishment_Year</th>\n",
       "      <th>Outlet_Size</th>\n",
       "      <th>Outlet_Location_Type</th>\n",
       "      <th>Outlet_Type</th>\n",
       "    </tr>\n",
       "  </thead>\n",
       "  <tbody>\n",
       "    <tr>\n",
       "      <th>0</th>\n",
       "      <td>FDW58</td>\n",
       "      <td>20.750</td>\n",
       "      <td>Low Fat</td>\n",
       "      <td>0.007565</td>\n",
       "      <td>Snack Foods</td>\n",
       "      <td>107.8622</td>\n",
       "      <td>OUT049</td>\n",
       "      <td>1999</td>\n",
       "      <td>Medium</td>\n",
       "      <td>Tier 1</td>\n",
       "      <td>Supermarket Type1</td>\n",
       "    </tr>\n",
       "    <tr>\n",
       "      <th>1</th>\n",
       "      <td>FDW14</td>\n",
       "      <td>8.300</td>\n",
       "      <td>reg</td>\n",
       "      <td>0.038428</td>\n",
       "      <td>Dairy</td>\n",
       "      <td>87.3198</td>\n",
       "      <td>OUT017</td>\n",
       "      <td>2007</td>\n",
       "      <td>NaN</td>\n",
       "      <td>Tier 2</td>\n",
       "      <td>Supermarket Type1</td>\n",
       "    </tr>\n",
       "    <tr>\n",
       "      <th>2</th>\n",
       "      <td>NCN55</td>\n",
       "      <td>14.600</td>\n",
       "      <td>Low Fat</td>\n",
       "      <td>0.099575</td>\n",
       "      <td>Others</td>\n",
       "      <td>241.7538</td>\n",
       "      <td>OUT010</td>\n",
       "      <td>1998</td>\n",
       "      <td>NaN</td>\n",
       "      <td>Tier 3</td>\n",
       "      <td>Grocery Store</td>\n",
       "    </tr>\n",
       "    <tr>\n",
       "      <th>3</th>\n",
       "      <td>FDQ58</td>\n",
       "      <td>7.315</td>\n",
       "      <td>Low Fat</td>\n",
       "      <td>0.015388</td>\n",
       "      <td>Snack Foods</td>\n",
       "      <td>155.0340</td>\n",
       "      <td>OUT017</td>\n",
       "      <td>2007</td>\n",
       "      <td>NaN</td>\n",
       "      <td>Tier 2</td>\n",
       "      <td>Supermarket Type1</td>\n",
       "    </tr>\n",
       "    <tr>\n",
       "      <th>4</th>\n",
       "      <td>FDY38</td>\n",
       "      <td>NaN</td>\n",
       "      <td>Regular</td>\n",
       "      <td>0.118599</td>\n",
       "      <td>Dairy</td>\n",
       "      <td>234.2300</td>\n",
       "      <td>OUT027</td>\n",
       "      <td>1985</td>\n",
       "      <td>Medium</td>\n",
       "      <td>Tier 3</td>\n",
       "      <td>Supermarket Type3</td>\n",
       "    </tr>\n",
       "  </tbody>\n",
       "</table>\n",
       "</div>"
      ],
      "text/plain": [
       "  Item_Identifier  Item_Weight Item_Fat_Content  Item_Visibility    Item_Type  \\\n",
       "0           FDW58       20.750          Low Fat         0.007565  Snack Foods   \n",
       "1           FDW14        8.300              reg         0.038428        Dairy   \n",
       "2           NCN55       14.600          Low Fat         0.099575       Others   \n",
       "3           FDQ58        7.315          Low Fat         0.015388  Snack Foods   \n",
       "4           FDY38          NaN          Regular         0.118599        Dairy   \n",
       "\n",
       "   Item_MRP Outlet_Identifier  Outlet_Establishment_Year Outlet_Size  \\\n",
       "0  107.8622            OUT049                       1999      Medium   \n",
       "1   87.3198            OUT017                       2007         NaN   \n",
       "2  241.7538            OUT010                       1998         NaN   \n",
       "3  155.0340            OUT017                       2007         NaN   \n",
       "4  234.2300            OUT027                       1985      Medium   \n",
       "\n",
       "  Outlet_Location_Type        Outlet_Type  \n",
       "0               Tier 1  Supermarket Type1  \n",
       "1               Tier 2  Supermarket Type1  \n",
       "2               Tier 3      Grocery Store  \n",
       "3               Tier 2  Supermarket Type1  \n",
       "4               Tier 3  Supermarket Type3  "
      ]
     },
     "execution_count": 69,
     "metadata": {},
     "output_type": "execute_result"
    }
   ],
   "source": [
    "test_df.head(5)"
   ]
  },
  {
   "cell_type": "code",
   "execution_count": 70,
   "id": "830886e5",
   "metadata": {},
   "outputs": [
    {
     "data": {
      "text/plain": [
       "Item_Identifier                 0\n",
       "Item_Weight                   976\n",
       "Item_Fat_Content                0\n",
       "Item_Visibility                 0\n",
       "Item_Type                       0\n",
       "Item_MRP                        0\n",
       "Outlet_Identifier               0\n",
       "Outlet_Establishment_Year       0\n",
       "Outlet_Size                  1606\n",
       "Outlet_Location_Type            0\n",
       "Outlet_Type                     0\n",
       "dtype: int64"
      ]
     },
     "execution_count": 70,
     "metadata": {},
     "output_type": "execute_result"
    }
   ],
   "source": [
    "test_df.isnull().sum()\n"
   ]
  },
  {
   "cell_type": "code",
   "execution_count": 71,
   "id": "d1924909",
   "metadata": {},
   "outputs": [
    {
     "data": {
      "text/plain": [
       "410"
      ]
     },
     "execution_count": 71,
     "metadata": {},
     "output_type": "execute_result"
    }
   ],
   "source": [
    "test_df[\"Item_Weight\"].nunique()"
   ]
  },
  {
   "cell_type": "code",
   "execution_count": 72,
   "id": "0b1141e0",
   "metadata": {},
   "outputs": [],
   "source": [
    "test_df[\"Item_Weight\"]= test_df[\"Item_Weight\"].fillna(test_df[\"Item_Weight\"].mean())"
   ]
  },
  {
   "cell_type": "code",
   "execution_count": 73,
   "id": "399d2b6a",
   "metadata": {},
   "outputs": [],
   "source": [
    "test_df[\"Outlet_Size\"]= test_df[\"Outlet_Size\"].fillna(test_df[\"Outlet_Size\"].mode()[0])"
   ]
  },
  {
   "cell_type": "code",
   "execution_count": 74,
   "id": "08e9adf7",
   "metadata": {},
   "outputs": [
    {
     "data": {
      "text/plain": [
       "Item_Identifier              0\n",
       "Item_Weight                  0\n",
       "Item_Fat_Content             0\n",
       "Item_Visibility              0\n",
       "Item_Type                    0\n",
       "Item_MRP                     0\n",
       "Outlet_Identifier            0\n",
       "Outlet_Establishment_Year    0\n",
       "Outlet_Size                  0\n",
       "Outlet_Location_Type         0\n",
       "Outlet_Type                  0\n",
       "dtype: int64"
      ]
     },
     "execution_count": 74,
     "metadata": {},
     "output_type": "execute_result"
    }
   ],
   "source": [
    "test_df.isnull().sum()"
   ]
  },
  {
   "cell_type": "code",
   "execution_count": 75,
   "id": "43a7b75a",
   "metadata": {},
   "outputs": [],
   "source": [
    "test_df[\"Item_Visibility_bins\"]=pd.cut(test_df[\"Item_Visibility\"],[0.00,0.065,0.13,0.2],labels=['Low Viz', 'Viz', 'High Viz'])"
   ]
  },
  {
   "cell_type": "code",
   "execution_count": 76,
   "id": "d0eb1580",
   "metadata": {},
   "outputs": [
    {
     "data": {
      "text/html": [
       "<div>\n",
       "<style scoped>\n",
       "    .dataframe tbody tr th:only-of-type {\n",
       "        vertical-align: middle;\n",
       "    }\n",
       "\n",
       "    .dataframe tbody tr th {\n",
       "        vertical-align: top;\n",
       "    }\n",
       "\n",
       "    .dataframe thead th {\n",
       "        text-align: right;\n",
       "    }\n",
       "</style>\n",
       "<table border=\"1\" class=\"dataframe\">\n",
       "  <thead>\n",
       "    <tr style=\"text-align: right;\">\n",
       "      <th></th>\n",
       "      <th>Item_Identifier</th>\n",
       "      <th>Item_Weight</th>\n",
       "      <th>Item_Fat_Content</th>\n",
       "      <th>Item_Type</th>\n",
       "      <th>Item_MRP</th>\n",
       "      <th>Outlet_Identifier</th>\n",
       "      <th>Outlet_Establishment_Year</th>\n",
       "      <th>Outlet_Size</th>\n",
       "      <th>Outlet_Location_Type</th>\n",
       "      <th>Outlet_Type</th>\n",
       "      <th>Item_Visibility_bins</th>\n",
       "    </tr>\n",
       "  </thead>\n",
       "  <tbody>\n",
       "    <tr>\n",
       "      <th>0</th>\n",
       "      <td>FDW58</td>\n",
       "      <td>20.750000</td>\n",
       "      <td>Low Fat</td>\n",
       "      <td>Snack Foods</td>\n",
       "      <td>107.8622</td>\n",
       "      <td>OUT049</td>\n",
       "      <td>1999</td>\n",
       "      <td>Medium</td>\n",
       "      <td>Tier 1</td>\n",
       "      <td>Supermarket Type1</td>\n",
       "      <td>Low Viz</td>\n",
       "    </tr>\n",
       "    <tr>\n",
       "      <th>1</th>\n",
       "      <td>FDW14</td>\n",
       "      <td>8.300000</td>\n",
       "      <td>reg</td>\n",
       "      <td>Dairy</td>\n",
       "      <td>87.3198</td>\n",
       "      <td>OUT017</td>\n",
       "      <td>2007</td>\n",
       "      <td>Medium</td>\n",
       "      <td>Tier 2</td>\n",
       "      <td>Supermarket Type1</td>\n",
       "      <td>Low Viz</td>\n",
       "    </tr>\n",
       "    <tr>\n",
       "      <th>2</th>\n",
       "      <td>NCN55</td>\n",
       "      <td>14.600000</td>\n",
       "      <td>Low Fat</td>\n",
       "      <td>Others</td>\n",
       "      <td>241.7538</td>\n",
       "      <td>OUT010</td>\n",
       "      <td>1998</td>\n",
       "      <td>Medium</td>\n",
       "      <td>Tier 3</td>\n",
       "      <td>Grocery Store</td>\n",
       "      <td>Viz</td>\n",
       "    </tr>\n",
       "    <tr>\n",
       "      <th>3</th>\n",
       "      <td>FDQ58</td>\n",
       "      <td>7.315000</td>\n",
       "      <td>Low Fat</td>\n",
       "      <td>Snack Foods</td>\n",
       "      <td>155.0340</td>\n",
       "      <td>OUT017</td>\n",
       "      <td>2007</td>\n",
       "      <td>Medium</td>\n",
       "      <td>Tier 2</td>\n",
       "      <td>Supermarket Type1</td>\n",
       "      <td>Low Viz</td>\n",
       "    </tr>\n",
       "    <tr>\n",
       "      <th>4</th>\n",
       "      <td>FDY38</td>\n",
       "      <td>12.695633</td>\n",
       "      <td>Regular</td>\n",
       "      <td>Dairy</td>\n",
       "      <td>234.2300</td>\n",
       "      <td>OUT027</td>\n",
       "      <td>1985</td>\n",
       "      <td>Medium</td>\n",
       "      <td>Tier 3</td>\n",
       "      <td>Supermarket Type3</td>\n",
       "      <td>Viz</td>\n",
       "    </tr>\n",
       "    <tr>\n",
       "      <th>...</th>\n",
       "      <td>...</td>\n",
       "      <td>...</td>\n",
       "      <td>...</td>\n",
       "      <td>...</td>\n",
       "      <td>...</td>\n",
       "      <td>...</td>\n",
       "      <td>...</td>\n",
       "      <td>...</td>\n",
       "      <td>...</td>\n",
       "      <td>...</td>\n",
       "      <td>...</td>\n",
       "    </tr>\n",
       "    <tr>\n",
       "      <th>5676</th>\n",
       "      <td>FDB58</td>\n",
       "      <td>10.500000</td>\n",
       "      <td>Regular</td>\n",
       "      <td>Snack Foods</td>\n",
       "      <td>141.3154</td>\n",
       "      <td>OUT046</td>\n",
       "      <td>1997</td>\n",
       "      <td>Small</td>\n",
       "      <td>Tier 1</td>\n",
       "      <td>Supermarket Type1</td>\n",
       "      <td>Low Viz</td>\n",
       "    </tr>\n",
       "    <tr>\n",
       "      <th>5677</th>\n",
       "      <td>FDD47</td>\n",
       "      <td>7.600000</td>\n",
       "      <td>Regular</td>\n",
       "      <td>Starchy Foods</td>\n",
       "      <td>169.1448</td>\n",
       "      <td>OUT018</td>\n",
       "      <td>2009</td>\n",
       "      <td>Medium</td>\n",
       "      <td>Tier 3</td>\n",
       "      <td>Supermarket Type2</td>\n",
       "      <td>High Viz</td>\n",
       "    </tr>\n",
       "    <tr>\n",
       "      <th>5678</th>\n",
       "      <td>NCO17</td>\n",
       "      <td>10.000000</td>\n",
       "      <td>Low Fat</td>\n",
       "      <td>Health and Hygiene</td>\n",
       "      <td>118.7440</td>\n",
       "      <td>OUT045</td>\n",
       "      <td>2002</td>\n",
       "      <td>Medium</td>\n",
       "      <td>Tier 2</td>\n",
       "      <td>Supermarket Type1</td>\n",
       "      <td>Viz</td>\n",
       "    </tr>\n",
       "    <tr>\n",
       "      <th>5679</th>\n",
       "      <td>FDJ26</td>\n",
       "      <td>15.300000</td>\n",
       "      <td>Regular</td>\n",
       "      <td>Canned</td>\n",
       "      <td>214.6218</td>\n",
       "      <td>OUT017</td>\n",
       "      <td>2007</td>\n",
       "      <td>Medium</td>\n",
       "      <td>Tier 2</td>\n",
       "      <td>Supermarket Type1</td>\n",
       "      <td>NaN</td>\n",
       "    </tr>\n",
       "    <tr>\n",
       "      <th>5680</th>\n",
       "      <td>FDU37</td>\n",
       "      <td>9.500000</td>\n",
       "      <td>Regular</td>\n",
       "      <td>Canned</td>\n",
       "      <td>79.7960</td>\n",
       "      <td>OUT045</td>\n",
       "      <td>2002</td>\n",
       "      <td>Medium</td>\n",
       "      <td>Tier 2</td>\n",
       "      <td>Supermarket Type1</td>\n",
       "      <td>Viz</td>\n",
       "    </tr>\n",
       "  </tbody>\n",
       "</table>\n",
       "<p>5681 rows × 11 columns</p>\n",
       "</div>"
      ],
      "text/plain": [
       "     Item_Identifier  Item_Weight Item_Fat_Content           Item_Type  \\\n",
       "0              FDW58    20.750000          Low Fat         Snack Foods   \n",
       "1              FDW14     8.300000              reg               Dairy   \n",
       "2              NCN55    14.600000          Low Fat              Others   \n",
       "3              FDQ58     7.315000          Low Fat         Snack Foods   \n",
       "4              FDY38    12.695633          Regular               Dairy   \n",
       "...              ...          ...              ...                 ...   \n",
       "5676           FDB58    10.500000          Regular         Snack Foods   \n",
       "5677           FDD47     7.600000          Regular       Starchy Foods   \n",
       "5678           NCO17    10.000000          Low Fat  Health and Hygiene   \n",
       "5679           FDJ26    15.300000          Regular              Canned   \n",
       "5680           FDU37     9.500000          Regular              Canned   \n",
       "\n",
       "      Item_MRP Outlet_Identifier  Outlet_Establishment_Year Outlet_Size  \\\n",
       "0     107.8622            OUT049                       1999      Medium   \n",
       "1      87.3198            OUT017                       2007      Medium   \n",
       "2     241.7538            OUT010                       1998      Medium   \n",
       "3     155.0340            OUT017                       2007      Medium   \n",
       "4     234.2300            OUT027                       1985      Medium   \n",
       "...        ...               ...                        ...         ...   \n",
       "5676  141.3154            OUT046                       1997       Small   \n",
       "5677  169.1448            OUT018                       2009      Medium   \n",
       "5678  118.7440            OUT045                       2002      Medium   \n",
       "5679  214.6218            OUT017                       2007      Medium   \n",
       "5680   79.7960            OUT045                       2002      Medium   \n",
       "\n",
       "     Outlet_Location_Type        Outlet_Type Item_Visibility_bins  \n",
       "0                  Tier 1  Supermarket Type1              Low Viz  \n",
       "1                  Tier 2  Supermarket Type1              Low Viz  \n",
       "2                  Tier 3      Grocery Store                  Viz  \n",
       "3                  Tier 2  Supermarket Type1              Low Viz  \n",
       "4                  Tier 3  Supermarket Type3                  Viz  \n",
       "...                   ...                ...                  ...  \n",
       "5676               Tier 1  Supermarket Type1              Low Viz  \n",
       "5677               Tier 3  Supermarket Type2             High Viz  \n",
       "5678               Tier 2  Supermarket Type1                  Viz  \n",
       "5679               Tier 2  Supermarket Type1                  NaN  \n",
       "5680               Tier 2  Supermarket Type1                  Viz  \n",
       "\n",
       "[5681 rows x 11 columns]"
      ]
     },
     "execution_count": 76,
     "metadata": {},
     "output_type": "execute_result"
    }
   ],
   "source": [
    "test_df.drop([\"Item_Visibility\"],axis=1)"
   ]
  },
  {
   "cell_type": "code",
   "execution_count": 77,
   "id": "d357c9fb",
   "metadata": {},
   "outputs": [
    {
     "data": {
      "text/plain": [
       "Item_Identifier                object\n",
       "Item_Weight                   float64\n",
       "Item_Fat_Content               object\n",
       "Item_Visibility               float64\n",
       "Item_Type                      object\n",
       "Item_MRP                      float64\n",
       "Outlet_Identifier              object\n",
       "Outlet_Establishment_Year       int64\n",
       "Outlet_Size                    object\n",
       "Outlet_Location_Type           object\n",
       "Outlet_Type                    object\n",
       "Item_Visibility_bins         category\n",
       "dtype: object"
      ]
     },
     "execution_count": 77,
     "metadata": {},
     "output_type": "execute_result"
    }
   ],
   "source": [
    "test_df.dtypes"
   ]
  },
  {
   "cell_type": "code",
   "execution_count": 78,
   "id": "8f5468c0",
   "metadata": {},
   "outputs": [
    {
     "data": {
      "text/plain": [
       "Low Fat    3396\n",
       "Regular    1935\n",
       "LF          206\n",
       "reg          78\n",
       "low fat      66\n",
       "Name: Item_Fat_Content, dtype: int64"
      ]
     },
     "execution_count": 78,
     "metadata": {},
     "output_type": "execute_result"
    }
   ],
   "source": [
    "test_df[\"Item_Fat_Content\"].value_counts()"
   ]
  },
  {
   "cell_type": "code",
   "execution_count": 79,
   "id": "9e69f739",
   "metadata": {},
   "outputs": [],
   "source": [
    "test_df[\"Item_Fat_Content\"]=test_df[\"Item_Fat_Content\"].replace(['LF','low fat'],'Low Fat')"
   ]
  },
  {
   "cell_type": "code",
   "execution_count": 80,
   "id": "33e3ae36",
   "metadata": {},
   "outputs": [],
   "source": [
    "test_df[\"Item_Fat_Content\"]=test_df[\"Item_Fat_Content\"].replace('reg','Regular')"
   ]
  },
  {
   "cell_type": "code",
   "execution_count": 81,
   "id": "e2a1f564",
   "metadata": {},
   "outputs": [
    {
     "data": {
      "text/plain": [
       "Low Viz     2960\n",
       "Viz         1726\n",
       "High Viz     536\n",
       "Name: Item_Visibility_bins, dtype: int64"
      ]
     },
     "execution_count": 81,
     "metadata": {},
     "output_type": "execute_result"
    }
   ],
   "source": [
    "test_df[\"Item_Visibility_bins\"].value_counts()"
   ]
  },
  {
   "cell_type": "code",
   "execution_count": 82,
   "id": "827cd0a5",
   "metadata": {},
   "outputs": [
    {
     "data": {
      "text/plain": [
       "459"
      ]
     },
     "execution_count": 82,
     "metadata": {},
     "output_type": "execute_result"
    }
   ],
   "source": [
    "test_df[\"Item_Visibility_bins\"].isnull().sum()"
   ]
  },
  {
   "cell_type": "code",
   "execution_count": 83,
   "id": "caa9fb53",
   "metadata": {},
   "outputs": [],
   "source": [
    "test_df[\"Item_Visibility_bins\"]=test_df[\"Item_Visibility_bins\"].fillna('Low Viz')"
   ]
  },
  {
   "cell_type": "code",
   "execution_count": 84,
   "id": "c5e50406",
   "metadata": {},
   "outputs": [],
   "source": [
    "test_df[\"Item_Fat_Content\"]=le.fit_transform(test_df[\"Item_Fat_Content\"])"
   ]
  },
  {
   "cell_type": "code",
   "execution_count": 85,
   "id": "be7350a8",
   "metadata": {},
   "outputs": [],
   "source": [
    "test_df[\"Item_Visibility_bins\"]=le.fit_transform(test_df[\"Item_Visibility_bins\"])"
   ]
  },
  {
   "cell_type": "code",
   "execution_count": 86,
   "id": "381e33aa",
   "metadata": {},
   "outputs": [
    {
     "data": {
      "text/plain": [
       "Medium    3468\n",
       "Small     1592\n",
       "High       621\n",
       "Name: Outlet_Size, dtype: int64"
      ]
     },
     "execution_count": 86,
     "metadata": {},
     "output_type": "execute_result"
    }
   ],
   "source": [
    "test_df[\"Outlet_Size\"].value_counts()"
   ]
  },
  {
   "cell_type": "code",
   "execution_count": 87,
   "id": "33ede032",
   "metadata": {},
   "outputs": [],
   "source": [
    "test_df[\"Outlet_Size\"]=le.fit_transform(test_df[\"Outlet_Size\"])"
   ]
  },
  {
   "cell_type": "code",
   "execution_count": 88,
   "id": "861f7a27",
   "metadata": {},
   "outputs": [],
   "source": [
    "test_df[\"Outlet_Location_Type\"]=le.fit_transform(test_df[\"Outlet_Location_Type\"])"
   ]
  },
  {
   "cell_type": "code",
   "execution_count": 89,
   "id": "ca2e964a",
   "metadata": {},
   "outputs": [
    {
     "data": {
      "text/plain": [
       "Supermarket Type1    3717\n",
       "Grocery Store         722\n",
       "Supermarket Type3     624\n",
       "Supermarket Type2     618\n",
       "Name: Outlet_Type, dtype: int64"
      ]
     },
     "execution_count": 89,
     "metadata": {},
     "output_type": "execute_result"
    }
   ],
   "source": [
    "test_df[\"Outlet_Type\"].value_counts()"
   ]
  },
  {
   "cell_type": "code",
   "execution_count": 90,
   "id": "013ca4a4",
   "metadata": {},
   "outputs": [],
   "source": [
    "dummies2=pd.get_dummies(test_df[\"Outlet_Type\"])   "
   ]
  },
  {
   "cell_type": "code",
   "execution_count": 91,
   "id": "d11295d7",
   "metadata": {},
   "outputs": [],
   "source": [
    "test_df=pd.concat([test_df,dummies2],axis=1)"
   ]
  },
  {
   "cell_type": "code",
   "execution_count": 92,
   "id": "deb4e914",
   "metadata": {},
   "outputs": [
    {
     "data": {
      "text/plain": [
       "Item_Identifier               object\n",
       "Item_Weight                  float64\n",
       "Item_Fat_Content               int32\n",
       "Item_Visibility              float64\n",
       "Item_Type                     object\n",
       "Item_MRP                     float64\n",
       "Outlet_Identifier             object\n",
       "Outlet_Establishment_Year      int64\n",
       "Outlet_Size                    int32\n",
       "Outlet_Location_Type           int32\n",
       "Outlet_Type                   object\n",
       "Item_Visibility_bins           int32\n",
       "Grocery Store                  uint8\n",
       "Supermarket Type1              uint8\n",
       "Supermarket Type2              uint8\n",
       "Supermarket Type3              uint8\n",
       "dtype: object"
      ]
     },
     "execution_count": 92,
     "metadata": {},
     "output_type": "execute_result"
    }
   ],
   "source": [
    "test_df.dtypes"
   ]
  },
  {
   "cell_type": "code",
   "execution_count": 93,
   "id": "1c8409e3",
   "metadata": {},
   "outputs": [
    {
     "data": {
      "text/html": [
       "<div>\n",
       "<style scoped>\n",
       "    .dataframe tbody tr th:only-of-type {\n",
       "        vertical-align: middle;\n",
       "    }\n",
       "\n",
       "    .dataframe tbody tr th {\n",
       "        vertical-align: top;\n",
       "    }\n",
       "\n",
       "    .dataframe thead th {\n",
       "        text-align: right;\n",
       "    }\n",
       "</style>\n",
       "<table border=\"1\" class=\"dataframe\">\n",
       "  <thead>\n",
       "    <tr style=\"text-align: right;\">\n",
       "      <th></th>\n",
       "      <th>Item_Weight</th>\n",
       "      <th>Item_Fat_Content</th>\n",
       "      <th>Item_Visibility</th>\n",
       "      <th>Item_MRP</th>\n",
       "      <th>Outlet_Size</th>\n",
       "      <th>Outlet_Location_Type</th>\n",
       "      <th>Item_Visibility_bins</th>\n",
       "      <th>Grocery Store</th>\n",
       "      <th>Supermarket Type1</th>\n",
       "      <th>Supermarket Type2</th>\n",
       "      <th>Supermarket Type3</th>\n",
       "    </tr>\n",
       "  </thead>\n",
       "  <tbody>\n",
       "    <tr>\n",
       "      <th>0</th>\n",
       "      <td>20.750000</td>\n",
       "      <td>0</td>\n",
       "      <td>0.007565</td>\n",
       "      <td>107.8622</td>\n",
       "      <td>1</td>\n",
       "      <td>0</td>\n",
       "      <td>1</td>\n",
       "      <td>0</td>\n",
       "      <td>1</td>\n",
       "      <td>0</td>\n",
       "      <td>0</td>\n",
       "    </tr>\n",
       "    <tr>\n",
       "      <th>1</th>\n",
       "      <td>8.300000</td>\n",
       "      <td>1</td>\n",
       "      <td>0.038428</td>\n",
       "      <td>87.3198</td>\n",
       "      <td>1</td>\n",
       "      <td>1</td>\n",
       "      <td>1</td>\n",
       "      <td>0</td>\n",
       "      <td>1</td>\n",
       "      <td>0</td>\n",
       "      <td>0</td>\n",
       "    </tr>\n",
       "    <tr>\n",
       "      <th>2</th>\n",
       "      <td>14.600000</td>\n",
       "      <td>0</td>\n",
       "      <td>0.099575</td>\n",
       "      <td>241.7538</td>\n",
       "      <td>1</td>\n",
       "      <td>2</td>\n",
       "      <td>2</td>\n",
       "      <td>1</td>\n",
       "      <td>0</td>\n",
       "      <td>0</td>\n",
       "      <td>0</td>\n",
       "    </tr>\n",
       "    <tr>\n",
       "      <th>3</th>\n",
       "      <td>7.315000</td>\n",
       "      <td>0</td>\n",
       "      <td>0.015388</td>\n",
       "      <td>155.0340</td>\n",
       "      <td>1</td>\n",
       "      <td>1</td>\n",
       "      <td>1</td>\n",
       "      <td>0</td>\n",
       "      <td>1</td>\n",
       "      <td>0</td>\n",
       "      <td>0</td>\n",
       "    </tr>\n",
       "    <tr>\n",
       "      <th>4</th>\n",
       "      <td>12.695633</td>\n",
       "      <td>1</td>\n",
       "      <td>0.118599</td>\n",
       "      <td>234.2300</td>\n",
       "      <td>1</td>\n",
       "      <td>2</td>\n",
       "      <td>2</td>\n",
       "      <td>0</td>\n",
       "      <td>0</td>\n",
       "      <td>0</td>\n",
       "      <td>1</td>\n",
       "    </tr>\n",
       "    <tr>\n",
       "      <th>...</th>\n",
       "      <td>...</td>\n",
       "      <td>...</td>\n",
       "      <td>...</td>\n",
       "      <td>...</td>\n",
       "      <td>...</td>\n",
       "      <td>...</td>\n",
       "      <td>...</td>\n",
       "      <td>...</td>\n",
       "      <td>...</td>\n",
       "      <td>...</td>\n",
       "      <td>...</td>\n",
       "    </tr>\n",
       "    <tr>\n",
       "      <th>5676</th>\n",
       "      <td>10.500000</td>\n",
       "      <td>1</td>\n",
       "      <td>0.013496</td>\n",
       "      <td>141.3154</td>\n",
       "      <td>2</td>\n",
       "      <td>0</td>\n",
       "      <td>1</td>\n",
       "      <td>0</td>\n",
       "      <td>1</td>\n",
       "      <td>0</td>\n",
       "      <td>0</td>\n",
       "    </tr>\n",
       "    <tr>\n",
       "      <th>5677</th>\n",
       "      <td>7.600000</td>\n",
       "      <td>1</td>\n",
       "      <td>0.142991</td>\n",
       "      <td>169.1448</td>\n",
       "      <td>1</td>\n",
       "      <td>2</td>\n",
       "      <td>0</td>\n",
       "      <td>0</td>\n",
       "      <td>0</td>\n",
       "      <td>1</td>\n",
       "      <td>0</td>\n",
       "    </tr>\n",
       "    <tr>\n",
       "      <th>5678</th>\n",
       "      <td>10.000000</td>\n",
       "      <td>0</td>\n",
       "      <td>0.073529</td>\n",
       "      <td>118.7440</td>\n",
       "      <td>1</td>\n",
       "      <td>1</td>\n",
       "      <td>2</td>\n",
       "      <td>0</td>\n",
       "      <td>1</td>\n",
       "      <td>0</td>\n",
       "      <td>0</td>\n",
       "    </tr>\n",
       "    <tr>\n",
       "      <th>5679</th>\n",
       "      <td>15.300000</td>\n",
       "      <td>1</td>\n",
       "      <td>0.000000</td>\n",
       "      <td>214.6218</td>\n",
       "      <td>1</td>\n",
       "      <td>1</td>\n",
       "      <td>1</td>\n",
       "      <td>0</td>\n",
       "      <td>1</td>\n",
       "      <td>0</td>\n",
       "      <td>0</td>\n",
       "    </tr>\n",
       "    <tr>\n",
       "      <th>5680</th>\n",
       "      <td>9.500000</td>\n",
       "      <td>1</td>\n",
       "      <td>0.104720</td>\n",
       "      <td>79.7960</td>\n",
       "      <td>1</td>\n",
       "      <td>1</td>\n",
       "      <td>2</td>\n",
       "      <td>0</td>\n",
       "      <td>1</td>\n",
       "      <td>0</td>\n",
       "      <td>0</td>\n",
       "    </tr>\n",
       "  </tbody>\n",
       "</table>\n",
       "<p>5681 rows × 11 columns</p>\n",
       "</div>"
      ],
      "text/plain": [
       "      Item_Weight  Item_Fat_Content  Item_Visibility  Item_MRP  Outlet_Size  \\\n",
       "0       20.750000                 0         0.007565  107.8622            1   \n",
       "1        8.300000                 1         0.038428   87.3198            1   \n",
       "2       14.600000                 0         0.099575  241.7538            1   \n",
       "3        7.315000                 0         0.015388  155.0340            1   \n",
       "4       12.695633                 1         0.118599  234.2300            1   \n",
       "...           ...               ...              ...       ...          ...   \n",
       "5676    10.500000                 1         0.013496  141.3154            2   \n",
       "5677     7.600000                 1         0.142991  169.1448            1   \n",
       "5678    10.000000                 0         0.073529  118.7440            1   \n",
       "5679    15.300000                 1         0.000000  214.6218            1   \n",
       "5680     9.500000                 1         0.104720   79.7960            1   \n",
       "\n",
       "      Outlet_Location_Type  Item_Visibility_bins  Grocery Store  \\\n",
       "0                        0                     1              0   \n",
       "1                        1                     1              0   \n",
       "2                        2                     2              1   \n",
       "3                        1                     1              0   \n",
       "4                        2                     2              0   \n",
       "...                    ...                   ...            ...   \n",
       "5676                     0                     1              0   \n",
       "5677                     2                     0              0   \n",
       "5678                     1                     2              0   \n",
       "5679                     1                     1              0   \n",
       "5680                     1                     2              0   \n",
       "\n",
       "      Supermarket Type1  Supermarket Type2  Supermarket Type3  \n",
       "0                     1                  0                  0  \n",
       "1                     1                  0                  0  \n",
       "2                     0                  0                  0  \n",
       "3                     1                  0                  0  \n",
       "4                     0                  0                  1  \n",
       "...                 ...                ...                ...  \n",
       "5676                  1                  0                  0  \n",
       "5677                  0                  1                  0  \n",
       "5678                  1                  0                  0  \n",
       "5679                  1                  0                  0  \n",
       "5680                  1                  0                  0  \n",
       "\n",
       "[5681 rows x 11 columns]"
      ]
     },
     "execution_count": 93,
     "metadata": {},
     "output_type": "execute_result"
    }
   ],
   "source": [
    "test_df.drop([\"Item_Identifier\",\"Item_Type\",\"Outlet_Identifier\",\"Outlet_Establishment_Year\",\"Outlet_Type\"],axis=1)"
   ]
  },
  {
   "cell_type": "code",
   "execution_count": 94,
   "id": "e23d313b",
   "metadata": {},
   "outputs": [
    {
     "data": {
      "text/plain": [
       "Item_Weight             float64\n",
       "Item_Fat_Content        float64\n",
       "Item_Visibility         float64\n",
       "Item_MRP                float64\n",
       "Outlet_Size             float64\n",
       "Outlet_Location_Type    float64\n",
       "Item_Outlet_Sales       float64\n",
       "Outlet Age              float64\n",
       "Item_Visibility_bins    float64\n",
       "Grocery Store             uint8\n",
       "Supermarket Type1         uint8\n",
       "Supermarket Type2         uint8\n",
       "Supermarket Type3         uint8\n",
       "dtype: object"
      ]
     },
     "execution_count": 94,
     "metadata": {},
     "output_type": "execute_result"
    }
   ],
   "source": [
    "train_df.dtypes"
   ]
  },
  {
   "cell_type": "code",
   "execution_count": 95,
   "id": "ab8d64bc",
   "metadata": {},
   "outputs": [
    {
     "data": {
      "text/plain": [
       "Item_Weight             144\n",
       "Item_Fat_Content        144\n",
       "Item_Visibility         144\n",
       "Item_MRP                144\n",
       "Outlet_Size             144\n",
       "Outlet_Location_Type    144\n",
       "Item_Outlet_Sales       144\n",
       "Outlet Age              144\n",
       "Item_Visibility_bins    144\n",
       "Grocery Store             0\n",
       "Supermarket Type1         0\n",
       "Supermarket Type2         0\n",
       "Supermarket Type3         0\n",
       "dtype: int64"
      ]
     },
     "execution_count": 95,
     "metadata": {},
     "output_type": "execute_result"
    }
   ],
   "source": [
    "train_df.isnull().sum()"
   ]
  },
  {
   "cell_type": "code",
   "execution_count": null,
   "id": "99e6ee3e",
   "metadata": {},
   "outputs": [],
   "source": []
  },
  {
   "cell_type": "code",
   "execution_count": 96,
   "id": "1ea5e2b1",
   "metadata": {},
   "outputs": [],
   "source": [
    "train_df[\"Item_Weight\"].fillna(test_df[\"Item_Weight\"].mean(),inplace=True)"
   ]
  },
  {
   "cell_type": "code",
   "execution_count": 102,
   "id": "24c8f478",
   "metadata": {},
   "outputs": [
    {
     "data": {
      "text/plain": [
       "Item_Weight               0\n",
       "Item_Fat_Content        144\n",
       "Item_Visibility         144\n",
       "Item_MRP                144\n",
       "Outlet_Size             144\n",
       "Outlet_Location_Type    144\n",
       "Item_Outlet_Sales       144\n",
       "Outlet Age              144\n",
       "Item_Visibility_bins    144\n",
       "Grocery Store             0\n",
       "Supermarket Type1         0\n",
       "Supermarket Type2         0\n",
       "Supermarket Type3         0\n",
       "dtype: int64"
      ]
     },
     "execution_count": 102,
     "metadata": {},
     "output_type": "execute_result"
    }
   ],
   "source": [
    "train_df.isnull().sum()"
   ]
  },
  {
   "cell_type": "code",
   "execution_count": 106,
   "id": "62cf85a0",
   "metadata": {},
   "outputs": [],
   "source": [
    "\n",
    "train_df[\"Item_Fat_Content\"].fillna(test_df[\"Item_Fat_Content\"].mean(),inplace=True)"
   ]
  },
  {
   "cell_type": "code",
   "execution_count": 108,
   "id": "10efbeee",
   "metadata": {},
   "outputs": [],
   "source": [
    "train_df[\"Item_Visibility\"].fillna(test_df[\"Item_Visibility\"].mean(),inplace=True)"
   ]
  },
  {
   "cell_type": "code",
   "execution_count": 109,
   "id": "8e95af64",
   "metadata": {},
   "outputs": [],
   "source": [
    "train_df[\"Item_MRP\"].fillna(test_df[\"Item_MRP\"].mean(),inplace=True)"
   ]
  },
  {
   "cell_type": "code",
   "execution_count": null,
   "id": "59f7cc33",
   "metadata": {},
   "outputs": [],
   "source": [
    "train_df[\"Outlet_Size\"].fillna(test_df[\"Outlet_Size\"].mean(),inplace=True)"
   ]
  },
  {
   "cell_type": "code",
   "execution_count": null,
   "id": "009173e8",
   "metadata": {},
   "outputs": [],
   "source": [
    "train_df[\"Outlet_Location_Type\"].fillna(test_df[\"Outlet_Location_Type\"].mean(),inplace=True)"
   ]
  },
  {
   "cell_type": "code",
   "execution_count": 115,
   "id": "dc5a172e",
   "metadata": {},
   "outputs": [
    {
     "data": {
      "text/plain": [
       "25.0515574650913"
      ]
     },
     "execution_count": 115,
     "metadata": {},
     "output_type": "execute_result"
    }
   ],
   "source": [
    "train_df[\"Outlet Age\"].mean()"
   ]
  },
  {
   "cell_type": "code",
   "execution_count": 116,
   "id": "18b52184",
   "metadata": {},
   "outputs": [],
   "source": [
    "train_df[\"Outlet Age\"].fillna(25.0515574650913,inplace=True)"
   ]
  },
  {
   "cell_type": "code",
   "execution_count": 117,
   "id": "c4f77257",
   "metadata": {},
   "outputs": [],
   "source": [
    "train_df[\"Item_Visibility_bins\"].fillna(test_df[\"Item_Visibility_bins\"].mean(),inplace=True)"
   ]
  },
  {
   "cell_type": "code",
   "execution_count": 118,
   "id": "38edeb42",
   "metadata": {},
   "outputs": [
    {
     "data": {
      "text/html": [
       "<div>\n",
       "<style scoped>\n",
       "    .dataframe tbody tr th:only-of-type {\n",
       "        vertical-align: middle;\n",
       "    }\n",
       "\n",
       "    .dataframe tbody tr th {\n",
       "        vertical-align: top;\n",
       "    }\n",
       "\n",
       "    .dataframe thead th {\n",
       "        text-align: right;\n",
       "    }\n",
       "</style>\n",
       "<table border=\"1\" class=\"dataframe\">\n",
       "  <thead>\n",
       "    <tr style=\"text-align: right;\">\n",
       "      <th></th>\n",
       "      <th>Item_Weight</th>\n",
       "      <th>Item_Fat_Content</th>\n",
       "      <th>Item_Visibility</th>\n",
       "      <th>Item_MRP</th>\n",
       "      <th>Outlet_Size</th>\n",
       "      <th>Outlet_Location_Type</th>\n",
       "      <th>Item_Outlet_Sales</th>\n",
       "      <th>Outlet Age</th>\n",
       "      <th>Item_Visibility_bins</th>\n",
       "      <th>Grocery Store</th>\n",
       "      <th>Supermarket Type1</th>\n",
       "      <th>Supermarket Type2</th>\n",
       "      <th>Supermarket Type3</th>\n",
       "    </tr>\n",
       "  </thead>\n",
       "  <tbody>\n",
       "    <tr>\n",
       "      <th>0</th>\n",
       "      <td>9.30</td>\n",
       "      <td>0.0</td>\n",
       "      <td>0.016047</td>\n",
       "      <td>249.8092</td>\n",
       "      <td>1.0</td>\n",
       "      <td>0.0</td>\n",
       "      <td>3735.1380</td>\n",
       "      <td>24.0</td>\n",
       "      <td>1.0</td>\n",
       "      <td>0</td>\n",
       "      <td>1</td>\n",
       "      <td>0</td>\n",
       "      <td>0</td>\n",
       "    </tr>\n",
       "    <tr>\n",
       "      <th>1</th>\n",
       "      <td>5.92</td>\n",
       "      <td>1.0</td>\n",
       "      <td>0.019278</td>\n",
       "      <td>48.2692</td>\n",
       "      <td>1.0</td>\n",
       "      <td>2.0</td>\n",
       "      <td>443.4228</td>\n",
       "      <td>14.0</td>\n",
       "      <td>1.0</td>\n",
       "      <td>0</td>\n",
       "      <td>0</td>\n",
       "      <td>1</td>\n",
       "      <td>0</td>\n",
       "    </tr>\n",
       "    <tr>\n",
       "      <th>2</th>\n",
       "      <td>17.50</td>\n",
       "      <td>0.0</td>\n",
       "      <td>0.016760</td>\n",
       "      <td>141.6180</td>\n",
       "      <td>1.0</td>\n",
       "      <td>0.0</td>\n",
       "      <td>2097.2700</td>\n",
       "      <td>24.0</td>\n",
       "      <td>1.0</td>\n",
       "      <td>0</td>\n",
       "      <td>1</td>\n",
       "      <td>0</td>\n",
       "      <td>0</td>\n",
       "    </tr>\n",
       "    <tr>\n",
       "      <th>3</th>\n",
       "      <td>19.20</td>\n",
       "      <td>1.0</td>\n",
       "      <td>0.000000</td>\n",
       "      <td>182.0950</td>\n",
       "      <td>1.0</td>\n",
       "      <td>2.0</td>\n",
       "      <td>732.3800</td>\n",
       "      <td>25.0</td>\n",
       "      <td>3.0</td>\n",
       "      <td>1</td>\n",
       "      <td>0</td>\n",
       "      <td>0</td>\n",
       "      <td>0</td>\n",
       "    </tr>\n",
       "    <tr>\n",
       "      <th>4</th>\n",
       "      <td>8.93</td>\n",
       "      <td>0.0</td>\n",
       "      <td>0.000000</td>\n",
       "      <td>53.8614</td>\n",
       "      <td>0.0</td>\n",
       "      <td>2.0</td>\n",
       "      <td>994.7052</td>\n",
       "      <td>36.0</td>\n",
       "      <td>3.0</td>\n",
       "      <td>0</td>\n",
       "      <td>1</td>\n",
       "      <td>0</td>\n",
       "      <td>0</td>\n",
       "    </tr>\n",
       "  </tbody>\n",
       "</table>\n",
       "</div>"
      ],
      "text/plain": [
       "   Item_Weight  Item_Fat_Content  Item_Visibility  Item_MRP  Outlet_Size  \\\n",
       "0         9.30               0.0         0.016047  249.8092          1.0   \n",
       "1         5.92               1.0         0.019278   48.2692          1.0   \n",
       "2        17.50               0.0         0.016760  141.6180          1.0   \n",
       "3        19.20               1.0         0.000000  182.0950          1.0   \n",
       "4         8.93               0.0         0.000000   53.8614          0.0   \n",
       "\n",
       "   Outlet_Location_Type  Item_Outlet_Sales  Outlet Age  Item_Visibility_bins  \\\n",
       "0                   0.0          3735.1380        24.0                   1.0   \n",
       "1                   2.0           443.4228        14.0                   1.0   \n",
       "2                   0.0          2097.2700        24.0                   1.0   \n",
       "3                   2.0           732.3800        25.0                   3.0   \n",
       "4                   2.0           994.7052        36.0                   3.0   \n",
       "\n",
       "   Grocery Store  Supermarket Type1  Supermarket Type2  Supermarket Type3  \n",
       "0              0                  1                  0                  0  \n",
       "1              0                  0                  1                  0  \n",
       "2              0                  1                  0                  0  \n",
       "3              1                  0                  0                  0  \n",
       "4              0                  1                  0                  0  "
      ]
     },
     "execution_count": 118,
     "metadata": {},
     "output_type": "execute_result"
    }
   ],
   "source": [
    "train_df.head(5)"
   ]
  },
  {
   "cell_type": "code",
   "execution_count": 119,
   "id": "d7129494",
   "metadata": {},
   "outputs": [
    {
     "data": {
      "text/plain": [
       "Item_Weight               0\n",
       "Item_Fat_Content          0\n",
       "Item_Visibility           0\n",
       "Item_MRP                  0\n",
       "Outlet_Size               0\n",
       "Outlet_Location_Type      0\n",
       "Item_Outlet_Sales       144\n",
       "Outlet Age                0\n",
       "Item_Visibility_bins      0\n",
       "Grocery Store             0\n",
       "Supermarket Type1         0\n",
       "Supermarket Type2         0\n",
       "Supermarket Type3         0\n",
       "dtype: int64"
      ]
     },
     "execution_count": 119,
     "metadata": {},
     "output_type": "execute_result"
    }
   ],
   "source": [
    "train_df.isnull().sum()"
   ]
  },
  {
   "cell_type": "code",
   "execution_count": 122,
   "id": "9c538f63",
   "metadata": {},
   "outputs": [
    {
     "data": {
      "text/plain": [
       "2212.89170442774"
      ]
     },
     "execution_count": 122,
     "metadata": {},
     "output_type": "execute_result"
    }
   ],
   "source": [
    "train_df[\"Item_Outlet_Sales\"].mean()"
   ]
  },
  {
   "cell_type": "code",
   "execution_count": 124,
   "id": "a765b84f",
   "metadata": {},
   "outputs": [
    {
     "data": {
      "text/plain": [
       "Item_Weight             0\n",
       "Item_Fat_Content        0\n",
       "Item_Visibility         0\n",
       "Item_MRP                0\n",
       "Outlet_Size             0\n",
       "Outlet_Location_Type    0\n",
       "Item_Outlet_Sales       0\n",
       "Outlet Age              0\n",
       "Item_Visibility_bins    0\n",
       "Grocery Store           0\n",
       "Supermarket Type1       0\n",
       "Supermarket Type2       0\n",
       "Supermarket Type3       0\n",
       "dtype: int64"
      ]
     },
     "execution_count": 124,
     "metadata": {},
     "output_type": "execute_result"
    }
   ],
   "source": [
    "train_df.isnull().sum()"
   ]
  },
  {
   "cell_type": "code",
   "execution_count": 123,
   "id": "3ad69fce",
   "metadata": {},
   "outputs": [],
   "source": [
    "train_df[\"Item_Outlet_Sales\"].fillna(2212.89170442774,inplace=True)"
   ]
  },
  {
   "cell_type": "code",
   "execution_count": 130,
   "id": "146bc177",
   "metadata": {},
   "outputs": [],
   "source": [
    "X=train_df.drop([\"Item_Outlet_Sales\"],axis=1)\n",
    "y=train_df[\"Item_Outlet_Sales\"]"
   ]
  },
  {
   "cell_type": "code",
   "execution_count": 131,
   "id": "8dc1f331",
   "metadata": {},
   "outputs": [],
   "source": [
    "X_train,X_test,y_train,y_test=train_test_split(X,y,test_size=0.2,random_state=25)"
   ]
  },
  {
   "cell_type": "code",
   "execution_count": 132,
   "id": "65bc3ec2",
   "metadata": {},
   "outputs": [],
   "source": [
    "from sklearn.linear_model import LinearRegression"
   ]
  },
  {
   "cell_type": "code",
   "execution_count": 133,
   "id": "7ae1413c",
   "metadata": {},
   "outputs": [],
   "source": [
    "lr_train=LinearRegression()"
   ]
  },
  {
   "cell_type": "code",
   "execution_count": 134,
   "id": "be679973",
   "metadata": {},
   "outputs": [
    {
     "data": {
      "text/plain": [
       "LinearRegression()"
      ]
     },
     "execution_count": 134,
     "metadata": {},
     "output_type": "execute_result"
    }
   ],
   "source": [
    "lr_train.fit(X_train,y_train)"
   ]
  },
  {
   "cell_type": "code",
   "execution_count": 135,
   "id": "161267fb",
   "metadata": {},
   "outputs": [
    {
     "name": "stdout",
     "output_type": "stream",
     "text": [
      "The intercept of the model is :\n",
      "[ 1.20667999e+00  3.38862764e+01 -6.33514268e+02  1.58074673e+01\n",
      " -6.04380893e+01 -3.05537524e+01 -1.00893494e+01  9.24637213e-01\n",
      " -1.51654453e+03  9.37195137e+01 -2.71227996e+02  1.69405302e+03]\n"
     ]
    }
   ],
   "source": [
    "print(\"The coeffient of the model is :\")\n",
    "print(lr_train.coef_)"
   ]
  },
  {
   "cell_type": "code",
   "execution_count": 136,
   "id": "a6205b66",
   "metadata": {},
   "outputs": [
    {
     "name": "stdout",
     "output_type": "stream",
     "text": [
      "The intercept of the model is :\n",
      "320.31699920955816\n"
     ]
    }
   ],
   "source": [
    "print(\"The intercept of the model is :\")\n",
    "print(lr_train.intercept_)"
   ]
  },
  {
   "cell_type": "code",
   "execution_count": 138,
   "id": "3af20e2f",
   "metadata": {},
   "outputs": [],
   "source": [
    "y_pred_train=lr_train.predict(X_train)"
   ]
  },
  {
   "cell_type": "code",
   "execution_count": 139,
   "id": "57849fc2",
   "metadata": {},
   "outputs": [],
   "source": [
    "y_pred_test=lr_train.predict(X_test)"
   ]
  },
  {
   "cell_type": "code",
   "execution_count": 140,
   "id": "86799c89",
   "metadata": {},
   "outputs": [
    {
     "data": {
      "text/html": [
       "<div>\n",
       "<style scoped>\n",
       "    .dataframe tbody tr th:only-of-type {\n",
       "        vertical-align: middle;\n",
       "    }\n",
       "\n",
       "    .dataframe tbody tr th {\n",
       "        vertical-align: top;\n",
       "    }\n",
       "\n",
       "    .dataframe thead th {\n",
       "        text-align: right;\n",
       "    }\n",
       "</style>\n",
       "<table border=\"1\" class=\"dataframe\">\n",
       "  <thead>\n",
       "    <tr style=\"text-align: right;\">\n",
       "      <th></th>\n",
       "      <th>Actual</th>\n",
       "      <th>Predicted</th>\n",
       "    </tr>\n",
       "  </thead>\n",
       "  <tbody>\n",
       "    <tr>\n",
       "      <th>606</th>\n",
       "      <td>2865.603200</td>\n",
       "      <td>2918.425855</td>\n",
       "    </tr>\n",
       "    <tr>\n",
       "      <th>3645</th>\n",
       "      <td>852.889800</td>\n",
       "      <td>197.333860</td>\n",
       "    </tr>\n",
       "    <tr>\n",
       "      <th>2595</th>\n",
       "      <td>503.344800</td>\n",
       "      <td>-383.988620</td>\n",
       "    </tr>\n",
       "    <tr>\n",
       "      <th>2048</th>\n",
       "      <td>849.560800</td>\n",
       "      <td>692.422756</td>\n",
       "    </tr>\n",
       "    <tr>\n",
       "      <th>1437</th>\n",
       "      <td>6018.166200</td>\n",
       "      <td>4095.298473</td>\n",
       "    </tr>\n",
       "    <tr>\n",
       "      <th>6884</th>\n",
       "      <td>5816.428800</td>\n",
       "      <td>3640.597994</td>\n",
       "    </tr>\n",
       "    <tr>\n",
       "      <th>1620</th>\n",
       "      <td>1537.998000</td>\n",
       "      <td>636.654223</td>\n",
       "    </tr>\n",
       "    <tr>\n",
       "      <th>7283</th>\n",
       "      <td>3848.324000</td>\n",
       "      <td>3556.530635</td>\n",
       "    </tr>\n",
       "    <tr>\n",
       "      <th>7072</th>\n",
       "      <td>2212.891704</td>\n",
       "      <td>662.303387</td>\n",
       "    </tr>\n",
       "    <tr>\n",
       "      <th>3064</th>\n",
       "      <td>1608.572800</td>\n",
       "      <td>1613.673803</td>\n",
       "    </tr>\n",
       "  </tbody>\n",
       "</table>\n",
       "</div>"
      ],
      "text/plain": [
       "           Actual    Predicted\n",
       "606   2865.603200  2918.425855\n",
       "3645   852.889800   197.333860\n",
       "2595   503.344800  -383.988620\n",
       "2048   849.560800   692.422756\n",
       "1437  6018.166200  4095.298473\n",
       "6884  5816.428800  3640.597994\n",
       "1620  1537.998000   636.654223\n",
       "7283  3848.324000  3556.530635\n",
       "7072  2212.891704   662.303387\n",
       "3064  1608.572800  1613.673803"
      ]
     },
     "execution_count": 140,
     "metadata": {},
     "output_type": "execute_result"
    }
   ],
   "source": [
    "comp_value_diff = pd.DataFrame({\"Actual\":y_test,\"Predicted\":y_pred_test})\n",
    "comp_value_diff.head(10)"
   ]
  },
  {
   "cell_type": "code",
   "execution_count": 143,
   "id": "c0e75750",
   "metadata": {},
   "outputs": [],
   "source": [
    "from sklearn.metrics import mean_squared_error"
   ]
  },
  {
   "cell_type": "code",
   "execution_count": 144,
   "id": "a0a7a72d",
   "metadata": {},
   "outputs": [
    {
     "name": "stdout",
     "output_type": "stream",
     "text": [
      "The RMSE score is  1102.1481969375134\n"
     ]
    }
   ],
   "source": [
    "RMSE=np.sqrt(mean_squared_error(y_test,y_pred_test))\n",
    "print(\"The RMSE score is \" , RMSE)"
   ]
  },
  {
   "cell_type": "code",
   "execution_count": 150,
   "id": "35a83ec1",
   "metadata": {},
   "outputs": [
    {
     "name": "stdout",
     "output_type": "stream",
     "text": [
      "The R2 score of the model is\n",
      "0.5458687544623027\n"
     ]
    }
   ],
   "source": [
    "print(\"The R2 score of the model is\")\n",
    "print(lr_train.score(X_test,y_test))"
   ]
  },
  {
   "cell_type": "code",
   "execution_count": 153,
   "id": "6eac2986",
   "metadata": {},
   "outputs": [],
   "source": [
    "# Checking with the LASSO, RIDGE and ELASTIC NET"
   ]
  },
  {
   "cell_type": "code",
   "execution_count": 154,
   "id": "ad2afe0a",
   "metadata": {},
   "outputs": [],
   "source": [
    "from sklearn.linear_model import Ridge"
   ]
  },
  {
   "cell_type": "code",
   "execution_count": 155,
   "id": "81833914",
   "metadata": {},
   "outputs": [],
   "source": [
    "Rigde_train= Ridge(alpha=0.05)"
   ]
  },
  {
   "cell_type": "code",
   "execution_count": 156,
   "id": "6b6ff85c",
   "metadata": {},
   "outputs": [
    {
     "data": {
      "text/plain": [
       "Ridge(alpha=0.05)"
      ]
     },
     "execution_count": 156,
     "metadata": {},
     "output_type": "execute_result"
    }
   ],
   "source": [
    "Rigde_train.fit(X_train,y_train)"
   ]
  },
  {
   "cell_type": "code",
   "execution_count": 157,
   "id": "00308bf9",
   "metadata": {},
   "outputs": [
    {
     "name": "stdout",
     "output_type": "stream",
     "text": [
      "The coeffient of the model is :\n",
      "[ 1.20677287e+00  3.38780314e+01 -6.31228155e+02  1.58074496e+01\n",
      " -6.04065200e+01 -3.05127104e+01 -1.00847172e+01  9.62325956e-01\n",
      " -1.51649921e+03  9.37692877e+01 -2.71158241e+02  1.69388816e+03]\n"
     ]
    }
   ],
   "source": [
    "print(\"The coeffient of the model is :\")\n",
    "print(Rigde_train.coef_)"
   ]
  },
  {
   "cell_type": "code",
   "execution_count": 159,
   "id": "07a6ed1a",
   "metadata": {},
   "outputs": [
    {
     "name": "stdout",
     "output_type": "stream",
     "text": [
      "The intercept of Rigde model is\n",
      "319.90076789231534\n"
     ]
    }
   ],
   "source": [
    "print(\"The intercept of Rigde model is\")\n",
    "print(Rigde_train.intercept_)"
   ]
  },
  {
   "cell_type": "code",
   "execution_count": 160,
   "id": "686bebec",
   "metadata": {},
   "outputs": [],
   "source": [
    "y_pred_test2=Rigde_train.predict(X_test)"
   ]
  },
  {
   "cell_type": "code",
   "execution_count": 163,
   "id": "38fcfffb",
   "metadata": {},
   "outputs": [],
   "source": [
    "y_pred_train2=Rigde_train.predict(X_train)"
   ]
  },
  {
   "cell_type": "code",
   "execution_count": 165,
   "id": "dbadbaa8",
   "metadata": {},
   "outputs": [],
   "source": [
    "RMSE2=np.sqrt(y_test,y_pred_test2)"
   ]
  },
  {
   "cell_type": "code",
   "execution_count": 166,
   "id": "0daf99e2",
   "metadata": {},
   "outputs": [
    {
     "name": "stdout",
     "output_type": "stream",
     "text": [
      "The RMSE of the Ridge model is  606     53.531329\n",
      "3645    29.204277\n",
      "2595    22.435347\n",
      "2048    29.147226\n",
      "1437    77.576841\n",
      "          ...    \n",
      "7080    54.186511\n",
      "5938    39.361359\n",
      "4138    19.583176\n",
      "2126    54.143489\n",
      "7328    20.577872\n",
      "Name: Item_Outlet_Sales, Length: 1705, dtype: float64\n"
     ]
    }
   ],
   "source": [
    "print(\"The RMSE of the Ridge model is \", RMSE2)"
   ]
  },
  {
   "cell_type": "code",
   "execution_count": 170,
   "id": "72d97bbc",
   "metadata": {},
   "outputs": [
    {
     "name": "stdout",
     "output_type": "stream",
     "text": [
      "The R2 score of the Ridge model is \n",
      "0.5458722730740119\n"
     ]
    }
   ],
   "source": [
    "print(\"The R2 score of the Ridge model is \")\n",
    "print(Rigde_train.score(X_test,y_test))"
   ]
  },
  {
   "cell_type": "code",
   "execution_count": 171,
   "id": "0c3ab5de",
   "metadata": {},
   "outputs": [],
   "source": [
    "from sklearn.linear_model import Lasso"
   ]
  },
  {
   "cell_type": "code",
   "execution_count": 193,
   "id": "2257901d",
   "metadata": {},
   "outputs": [],
   "source": [
    "LM=Lasso(alpha=0.5)"
   ]
  },
  {
   "cell_type": "code",
   "execution_count": 194,
   "id": "a84f3772",
   "metadata": {},
   "outputs": [
    {
     "data": {
      "text/plain": [
       "Lasso(alpha=0.5)"
      ]
     },
     "execution_count": 194,
     "metadata": {},
     "output_type": "execute_result"
    }
   ],
   "source": [
    "LM.fit(X_train,y_train)"
   ]
  },
  {
   "cell_type": "code",
   "execution_count": 195,
   "id": "8bca6dab",
   "metadata": {},
   "outputs": [
    {
     "name": "stdout",
     "output_type": "stream",
     "text": [
      "The coeffient of the model is :\n",
      "[ 1.18767567e+00  3.08003681e+01 -3.82187628e+02  1.58057127e+01\n",
      " -5.50117816e+01 -2.64994996e+01 -9.63923625e+00  3.96928897e+00\n",
      " -1.61598276e+03  0.00000000e+00 -3.59304405e+02  1.58689410e+03]\n"
     ]
    }
   ],
   "source": [
    "print(\"The coeffient of the model is :\")\n",
    "print(LM.coef_)"
   ]
  },
  {
   "cell_type": "code",
   "execution_count": 196,
   "id": "141ff601",
   "metadata": {},
   "outputs": [
    {
     "name": "stdout",
     "output_type": "stream",
     "text": [
      "The intercept of Rigde model is\n",
      "375.2021269925426\n"
     ]
    }
   ],
   "source": [
    "print(\"The intercept of Rigde model is\")\n",
    "print(LM.intercept_)"
   ]
  },
  {
   "cell_type": "code",
   "execution_count": 197,
   "id": "94f71256",
   "metadata": {},
   "outputs": [],
   "source": [
    "y_pred_test3=LM.predict(X_test)"
   ]
  },
  {
   "cell_type": "code",
   "execution_count": 198,
   "id": "fe1a4839",
   "metadata": {},
   "outputs": [],
   "source": [
    "y_pred_train3=LM.predict(X_train)"
   ]
  },
  {
   "cell_type": "code",
   "execution_count": 199,
   "id": "d0ee2632",
   "metadata": {},
   "outputs": [],
   "source": [
    "RMSE3=np.sqrt(y_test,y_pred_test2)"
   ]
  },
  {
   "cell_type": "code",
   "execution_count": 200,
   "id": "f3a3792a",
   "metadata": {},
   "outputs": [
    {
     "name": "stdout",
     "output_type": "stream",
     "text": [
      "606     53.531329\n",
      "3645    29.204277\n",
      "2595    22.435347\n",
      "2048    29.147226\n",
      "1437    77.576841\n",
      "          ...    \n",
      "7080    54.186511\n",
      "5938    39.361359\n",
      "4138    19.583176\n",
      "2126    54.143489\n",
      "7328    20.577872\n",
      "Name: Item_Outlet_Sales, Length: 1705, dtype: float64\n"
     ]
    }
   ],
   "source": [
    "print(RMSE3)"
   ]
  },
  {
   "cell_type": "code",
   "execution_count": 201,
   "id": "ffa35f31",
   "metadata": {},
   "outputs": [
    {
     "name": "stdout",
     "output_type": "stream",
     "text": [
      "The R2 score of the Lasso model is \n",
      "0.5460105157328612\n"
     ]
    }
   ],
   "source": [
    "print(\"The R2 score of the Lasso model is \")\n",
    "print(LM.score(X_test,y_test))"
   ]
  },
  {
   "cell_type": "code",
   "execution_count": 202,
   "id": "9113d678",
   "metadata": {},
   "outputs": [],
   "source": [
    "from sklearn.linear_model import ElasticNet"
   ]
  },
  {
   "cell_type": "code",
   "execution_count": 221,
   "id": "3fafa6d0",
   "metadata": {},
   "outputs": [],
   "source": [
    "ENM=ElasticNet(alpha=0.09,l1_ratio=0.2)"
   ]
  },
  {
   "cell_type": "code",
   "execution_count": 222,
   "id": "10a6b195",
   "metadata": {},
   "outputs": [
    {
     "data": {
      "text/plain": [
       "ElasticNet(alpha=0.09, l1_ratio=0.2)"
      ]
     },
     "execution_count": 222,
     "metadata": {},
     "output_type": "execute_result"
    }
   ],
   "source": [
    "ENM.fit(X_train,y_train)"
   ]
  },
  {
   "cell_type": "code",
   "execution_count": 223,
   "id": "844bc94c",
   "metadata": {},
   "outputs": [],
   "source": [
    "y_pred_test4=ENM.predict(X_test)\n",
    "\n",
    "\n"
   ]
  },
  {
   "cell_type": "code",
   "execution_count": 224,
   "id": "cd5c578b",
   "metadata": {},
   "outputs": [],
   "source": [
    "y_pred_train4=ENM.predict(X_train)"
   ]
  },
  {
   "cell_type": "code",
   "execution_count": 225,
   "id": "1047ae5b",
   "metadata": {},
   "outputs": [],
   "source": [
    "RMSE4=np.sqrt(y_test,y_pred_test4)"
   ]
  },
  {
   "cell_type": "code",
   "execution_count": 226,
   "id": "dcc9560b",
   "metadata": {},
   "outputs": [
    {
     "name": "stdout",
     "output_type": "stream",
     "text": [
      "606     53.531329\n",
      "3645    29.204277\n",
      "2595    22.435347\n",
      "2048    29.147226\n",
      "1437    77.576841\n",
      "          ...    \n",
      "7080    54.186511\n",
      "5938    39.361359\n",
      "4138    19.583176\n",
      "2126    54.143489\n",
      "7328    20.577872\n",
      "Name: Item_Outlet_Sales, Length: 1705, dtype: float64\n"
     ]
    }
   ],
   "source": [
    "print(RMSE4)"
   ]
  },
  {
   "cell_type": "code",
   "execution_count": 227,
   "id": "960f8b65",
   "metadata": {},
   "outputs": [
    {
     "name": "stdout",
     "output_type": "stream",
     "text": [
      "The R2 score of the Elastic Net model is \n",
      "0.5225503871925831\n"
     ]
    }
   ],
   "source": [
    "print(\"The R2 score of the Elastic Net model is \")\n",
    "print(ENM.score(X_test,y_test))"
   ]
  },
  {
   "cell_type": "code",
   "execution_count": 228,
   "id": "09dd53f1",
   "metadata": {},
   "outputs": [],
   "source": [
    "RMSE4=np.sqrt(mean_squared_error(y_test,y_pred_test2))"
   ]
  },
  {
   "cell_type": "code",
   "execution_count": 229,
   "id": "ccc49304",
   "metadata": {},
   "outputs": [
    {
     "name": "stdout",
     "output_type": "stream",
     "text": [
      "2695.174138087785\n"
     ]
    }
   ],
   "source": [
    "print(RMSE4)"
   ]
  },
  {
   "cell_type": "code",
   "execution_count": 230,
   "id": "b58ed0bc",
   "metadata": {},
   "outputs": [],
   "source": [
    "from sklearn.ensemble import GradientBoostingClassifier"
   ]
  },
  {
   "cell_type": "code",
   "execution_count": 234,
   "id": "4b129c08",
   "metadata": {},
   "outputs": [],
   "source": [
    "XGB=GradientBoostingClassifier(n_estimators=3)"
   ]
  },
  {
   "cell_type": "code",
   "execution_count": 236,
   "id": "414d4d75",
   "metadata": {},
   "outputs": [
    {
     "ename": "ValueError",
     "evalue": "Unknown label type: 'continuous'",
     "output_type": "error",
     "traceback": [
      "\u001b[1;31m---------------------------------------------------------------------------\u001b[0m",
      "\u001b[1;31mValueError\u001b[0m                                Traceback (most recent call last)",
      "\u001b[1;32m~\\AppData\\Local\\Temp\\ipykernel_11328\\2597796987.py\u001b[0m in \u001b[0;36m<module>\u001b[1;34m\u001b[0m\n\u001b[1;32m----> 1\u001b[1;33m \u001b[0mXGB\u001b[0m\u001b[1;33m.\u001b[0m\u001b[0mfit\u001b[0m\u001b[1;33m(\u001b[0m\u001b[0mX_train\u001b[0m\u001b[1;33m,\u001b[0m\u001b[0my_train\u001b[0m\u001b[1;33m)\u001b[0m\u001b[1;33m\u001b[0m\u001b[1;33m\u001b[0m\u001b[0m\n\u001b[0m",
      "\u001b[1;32m~\\anaconda3\\lib\\site-packages\\sklearn\\ensemble\\_gb.py\u001b[0m in \u001b[0;36mfit\u001b[1;34m(self, X, y, sample_weight, monitor)\u001b[0m\n\u001b[0;32m    495\u001b[0m \u001b[1;33m\u001b[0m\u001b[0m\n\u001b[0;32m    496\u001b[0m         \u001b[1;32mif\u001b[0m \u001b[0mis_classifier\u001b[0m\u001b[1;33m(\u001b[0m\u001b[0mself\u001b[0m\u001b[1;33m)\u001b[0m\u001b[1;33m:\u001b[0m\u001b[1;33m\u001b[0m\u001b[1;33m\u001b[0m\u001b[0m\n\u001b[1;32m--> 497\u001b[1;33m             \u001b[0my\u001b[0m \u001b[1;33m=\u001b[0m \u001b[0mself\u001b[0m\u001b[1;33m.\u001b[0m\u001b[0m_validate_y\u001b[0m\u001b[1;33m(\u001b[0m\u001b[0my\u001b[0m\u001b[1;33m,\u001b[0m \u001b[0msample_weight\u001b[0m\u001b[1;33m)\u001b[0m\u001b[1;33m\u001b[0m\u001b[1;33m\u001b[0m\u001b[0m\n\u001b[0m\u001b[0;32m    498\u001b[0m         \u001b[1;32melse\u001b[0m\u001b[1;33m:\u001b[0m\u001b[1;33m\u001b[0m\u001b[1;33m\u001b[0m\u001b[0m\n\u001b[0;32m    499\u001b[0m             \u001b[0my\u001b[0m \u001b[1;33m=\u001b[0m \u001b[0mself\u001b[0m\u001b[1;33m.\u001b[0m\u001b[0m_validate_y\u001b[0m\u001b[1;33m(\u001b[0m\u001b[0my\u001b[0m\u001b[1;33m)\u001b[0m\u001b[1;33m\u001b[0m\u001b[1;33m\u001b[0m\u001b[0m\n",
      "\u001b[1;32m~\\anaconda3\\lib\\site-packages\\sklearn\\ensemble\\_gb.py\u001b[0m in \u001b[0;36m_validate_y\u001b[1;34m(self, y, sample_weight)\u001b[0m\n\u001b[0;32m   1266\u001b[0m \u001b[1;33m\u001b[0m\u001b[0m\n\u001b[0;32m   1267\u001b[0m     \u001b[1;32mdef\u001b[0m \u001b[0m_validate_y\u001b[0m\u001b[1;33m(\u001b[0m\u001b[0mself\u001b[0m\u001b[1;33m,\u001b[0m \u001b[0my\u001b[0m\u001b[1;33m,\u001b[0m \u001b[0msample_weight\u001b[0m\u001b[1;33m)\u001b[0m\u001b[1;33m:\u001b[0m\u001b[1;33m\u001b[0m\u001b[1;33m\u001b[0m\u001b[0m\n\u001b[1;32m-> 1268\u001b[1;33m         \u001b[0mcheck_classification_targets\u001b[0m\u001b[1;33m(\u001b[0m\u001b[0my\u001b[0m\u001b[1;33m)\u001b[0m\u001b[1;33m\u001b[0m\u001b[1;33m\u001b[0m\u001b[0m\n\u001b[0m\u001b[0;32m   1269\u001b[0m         \u001b[0mself\u001b[0m\u001b[1;33m.\u001b[0m\u001b[0mclasses_\u001b[0m\u001b[1;33m,\u001b[0m \u001b[0my\u001b[0m \u001b[1;33m=\u001b[0m \u001b[0mnp\u001b[0m\u001b[1;33m.\u001b[0m\u001b[0munique\u001b[0m\u001b[1;33m(\u001b[0m\u001b[0my\u001b[0m\u001b[1;33m,\u001b[0m \u001b[0mreturn_inverse\u001b[0m\u001b[1;33m=\u001b[0m\u001b[1;32mTrue\u001b[0m\u001b[1;33m)\u001b[0m\u001b[1;33m\u001b[0m\u001b[1;33m\u001b[0m\u001b[0m\n\u001b[0;32m   1270\u001b[0m         \u001b[0mn_trim_classes\u001b[0m \u001b[1;33m=\u001b[0m \u001b[0mnp\u001b[0m\u001b[1;33m.\u001b[0m\u001b[0mcount_nonzero\u001b[0m\u001b[1;33m(\u001b[0m\u001b[0mnp\u001b[0m\u001b[1;33m.\u001b[0m\u001b[0mbincount\u001b[0m\u001b[1;33m(\u001b[0m\u001b[0my\u001b[0m\u001b[1;33m,\u001b[0m \u001b[0msample_weight\u001b[0m\u001b[1;33m)\u001b[0m\u001b[1;33m)\u001b[0m\u001b[1;33m\u001b[0m\u001b[1;33m\u001b[0m\u001b[0m\n",
      "\u001b[1;32m~\\anaconda3\\lib\\site-packages\\sklearn\\utils\\multiclass.py\u001b[0m in \u001b[0;36mcheck_classification_targets\u001b[1;34m(y)\u001b[0m\n\u001b[0;32m    195\u001b[0m         \u001b[1;34m\"multilabel-sequences\"\u001b[0m\u001b[1;33m,\u001b[0m\u001b[1;33m\u001b[0m\u001b[1;33m\u001b[0m\u001b[0m\n\u001b[0;32m    196\u001b[0m     ]:\n\u001b[1;32m--> 197\u001b[1;33m         \u001b[1;32mraise\u001b[0m \u001b[0mValueError\u001b[0m\u001b[1;33m(\u001b[0m\u001b[1;34m\"Unknown label type: %r\"\u001b[0m \u001b[1;33m%\u001b[0m \u001b[0my_type\u001b[0m\u001b[1;33m)\u001b[0m\u001b[1;33m\u001b[0m\u001b[1;33m\u001b[0m\u001b[0m\n\u001b[0m\u001b[0;32m    198\u001b[0m \u001b[1;33m\u001b[0m\u001b[0m\n\u001b[0;32m    199\u001b[0m \u001b[1;33m\u001b[0m\u001b[0m\n",
      "\u001b[1;31mValueError\u001b[0m: Unknown label type: 'continuous'"
     ]
    }
   ],
   "source": [
    "XGB.fit(X_train,y_train)"
   ]
  },
  {
   "cell_type": "code",
   "execution_count": null,
   "id": "ab5407b4",
   "metadata": {},
   "outputs": [],
   "source": []
  }
 ],
 "metadata": {
  "kernelspec": {
   "display_name": "Python 3 (ipykernel)",
   "language": "python",
   "name": "python3"
  },
  "language_info": {
   "codemirror_mode": {
    "name": "ipython",
    "version": 3
   },
   "file_extension": ".py",
   "mimetype": "text/x-python",
   "name": "python",
   "nbconvert_exporter": "python",
   "pygments_lexer": "ipython3",
   "version": "3.9.13"
  }
 },
 "nbformat": 4,
 "nbformat_minor": 5
}
